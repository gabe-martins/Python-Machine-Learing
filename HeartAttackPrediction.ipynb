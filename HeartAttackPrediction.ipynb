{
  "nbformat": 4,
  "nbformat_minor": 0,
  "metadata": {
    "colab": {
      "name": "HeartAttackPrediction.ipynb",
      "provenance": [],
      "collapsed_sections": []
    },
    "kernelspec": {
      "name": "python3",
      "display_name": "Python 3"
    },
    "language_info": {
      "name": "python"
    }
  },
  "cells": [
    {
      "cell_type": "code",
      "metadata": {
        "id": "VNRbrrf-010w"
      },
      "source": [
        "import seaborn as sns\n",
        "import numpy as np \n",
        "import pandas as pd\n",
        "import matplotlib.pyplot as plt\n",
        "\n",
        "from sklearn.model_selection import train_test_split\n",
        "from sklearn.preprocessing import StandardScaler\n",
        "from sklearn.svm import SVC\n",
        "from sklearn.linear_model import LogisticRegression\n",
        "from sklearn.metrics import accuracy_score\n",
        "from sklearn.neighbors import KNeighborsClassifier\n",
        "from sklearn.ensemble import RandomForestRegressor\n",
        "from sklearn.naive_bayes import BernoulliNB\n",
        "from sklearn.naive_bayes import GaussianNB\n",
        "from sklearn.metrics import confusion_matrix\n",
        "\n",
        "import xgboost as xgb"
      ],
      "execution_count": null,
      "outputs": []
    },
    {
      "cell_type": "code",
      "metadata": {
        "colab": {
          "base_uri": "https://localhost:8080/",
          "height": 206
        },
        "id": "HKmcd_g32_ST",
        "outputId": "c688fc17-6435-464e-9164-48f883817aee"
      },
      "source": [
        "heart = pd.read_csv('/content/drive/MyDrive/datasets/heart.csv')\n",
        "heart.head()"
      ],
      "execution_count": null,
      "outputs": [
        {
          "output_type": "execute_result",
          "data": {
            "text/html": [
              "\n",
              "  <div id=\"df-df22569b-bcc3-474c-ba99-7aefcdbe9027\">\n",
              "    <div class=\"colab-df-container\">\n",
              "      <div>\n",
              "<style scoped>\n",
              "    .dataframe tbody tr th:only-of-type {\n",
              "        vertical-align: middle;\n",
              "    }\n",
              "\n",
              "    .dataframe tbody tr th {\n",
              "        vertical-align: top;\n",
              "    }\n",
              "\n",
              "    .dataframe thead th {\n",
              "        text-align: right;\n",
              "    }\n",
              "</style>\n",
              "<table border=\"1\" class=\"dataframe\">\n",
              "  <thead>\n",
              "    <tr style=\"text-align: right;\">\n",
              "      <th></th>\n",
              "      <th>age</th>\n",
              "      <th>sex</th>\n",
              "      <th>cp</th>\n",
              "      <th>trtbps</th>\n",
              "      <th>chol</th>\n",
              "      <th>fbs</th>\n",
              "      <th>restecg</th>\n",
              "      <th>thalachh</th>\n",
              "      <th>exng</th>\n",
              "      <th>oldpeak</th>\n",
              "      <th>slp</th>\n",
              "      <th>caa</th>\n",
              "      <th>thall</th>\n",
              "      <th>output</th>\n",
              "    </tr>\n",
              "  </thead>\n",
              "  <tbody>\n",
              "    <tr>\n",
              "      <th>0</th>\n",
              "      <td>63</td>\n",
              "      <td>1</td>\n",
              "      <td>3</td>\n",
              "      <td>145</td>\n",
              "      <td>233</td>\n",
              "      <td>1</td>\n",
              "      <td>0</td>\n",
              "      <td>150</td>\n",
              "      <td>0</td>\n",
              "      <td>2.3</td>\n",
              "      <td>0</td>\n",
              "      <td>0</td>\n",
              "      <td>1</td>\n",
              "      <td>1</td>\n",
              "    </tr>\n",
              "    <tr>\n",
              "      <th>1</th>\n",
              "      <td>37</td>\n",
              "      <td>1</td>\n",
              "      <td>2</td>\n",
              "      <td>130</td>\n",
              "      <td>250</td>\n",
              "      <td>0</td>\n",
              "      <td>1</td>\n",
              "      <td>187</td>\n",
              "      <td>0</td>\n",
              "      <td>3.5</td>\n",
              "      <td>0</td>\n",
              "      <td>0</td>\n",
              "      <td>2</td>\n",
              "      <td>1</td>\n",
              "    </tr>\n",
              "    <tr>\n",
              "      <th>2</th>\n",
              "      <td>41</td>\n",
              "      <td>0</td>\n",
              "      <td>1</td>\n",
              "      <td>130</td>\n",
              "      <td>204</td>\n",
              "      <td>0</td>\n",
              "      <td>0</td>\n",
              "      <td>172</td>\n",
              "      <td>0</td>\n",
              "      <td>1.4</td>\n",
              "      <td>2</td>\n",
              "      <td>0</td>\n",
              "      <td>2</td>\n",
              "      <td>1</td>\n",
              "    </tr>\n",
              "    <tr>\n",
              "      <th>3</th>\n",
              "      <td>56</td>\n",
              "      <td>1</td>\n",
              "      <td>1</td>\n",
              "      <td>120</td>\n",
              "      <td>236</td>\n",
              "      <td>0</td>\n",
              "      <td>1</td>\n",
              "      <td>178</td>\n",
              "      <td>0</td>\n",
              "      <td>0.8</td>\n",
              "      <td>2</td>\n",
              "      <td>0</td>\n",
              "      <td>2</td>\n",
              "      <td>1</td>\n",
              "    </tr>\n",
              "    <tr>\n",
              "      <th>4</th>\n",
              "      <td>57</td>\n",
              "      <td>0</td>\n",
              "      <td>0</td>\n",
              "      <td>120</td>\n",
              "      <td>354</td>\n",
              "      <td>0</td>\n",
              "      <td>1</td>\n",
              "      <td>163</td>\n",
              "      <td>1</td>\n",
              "      <td>0.6</td>\n",
              "      <td>2</td>\n",
              "      <td>0</td>\n",
              "      <td>2</td>\n",
              "      <td>1</td>\n",
              "    </tr>\n",
              "  </tbody>\n",
              "</table>\n",
              "</div>\n",
              "      <button class=\"colab-df-convert\" onclick=\"convertToInteractive('df-df22569b-bcc3-474c-ba99-7aefcdbe9027')\"\n",
              "              title=\"Convert this dataframe to an interactive table.\"\n",
              "              style=\"display:none;\">\n",
              "        \n",
              "  <svg xmlns=\"http://www.w3.org/2000/svg\" height=\"24px\"viewBox=\"0 0 24 24\"\n",
              "       width=\"24px\">\n",
              "    <path d=\"M0 0h24v24H0V0z\" fill=\"none\"/>\n",
              "    <path d=\"M18.56 5.44l.94 2.06.94-2.06 2.06-.94-2.06-.94-.94-2.06-.94 2.06-2.06.94zm-11 1L8.5 8.5l.94-2.06 2.06-.94-2.06-.94L8.5 2.5l-.94 2.06-2.06.94zm10 10l.94 2.06.94-2.06 2.06-.94-2.06-.94-.94-2.06-.94 2.06-2.06.94z\"/><path d=\"M17.41 7.96l-1.37-1.37c-.4-.4-.92-.59-1.43-.59-.52 0-1.04.2-1.43.59L10.3 9.45l-7.72 7.72c-.78.78-.78 2.05 0 2.83L4 21.41c.39.39.9.59 1.41.59.51 0 1.02-.2 1.41-.59l7.78-7.78 2.81-2.81c.8-.78.8-2.07 0-2.86zM5.41 20L4 18.59l7.72-7.72 1.47 1.35L5.41 20z\"/>\n",
              "  </svg>\n",
              "      </button>\n",
              "      \n",
              "  <style>\n",
              "    .colab-df-container {\n",
              "      display:flex;\n",
              "      flex-wrap:wrap;\n",
              "      gap: 12px;\n",
              "    }\n",
              "\n",
              "    .colab-df-convert {\n",
              "      background-color: #E8F0FE;\n",
              "      border: none;\n",
              "      border-radius: 50%;\n",
              "      cursor: pointer;\n",
              "      display: none;\n",
              "      fill: #1967D2;\n",
              "      height: 32px;\n",
              "      padding: 0 0 0 0;\n",
              "      width: 32px;\n",
              "    }\n",
              "\n",
              "    .colab-df-convert:hover {\n",
              "      background-color: #E2EBFA;\n",
              "      box-shadow: 0px 1px 2px rgba(60, 64, 67, 0.3), 0px 1px 3px 1px rgba(60, 64, 67, 0.15);\n",
              "      fill: #174EA6;\n",
              "    }\n",
              "\n",
              "    [theme=dark] .colab-df-convert {\n",
              "      background-color: #3B4455;\n",
              "      fill: #D2E3FC;\n",
              "    }\n",
              "\n",
              "    [theme=dark] .colab-df-convert:hover {\n",
              "      background-color: #434B5C;\n",
              "      box-shadow: 0px 1px 3px 1px rgba(0, 0, 0, 0.15);\n",
              "      filter: drop-shadow(0px 1px 2px rgba(0, 0, 0, 0.3));\n",
              "      fill: #FFFFFF;\n",
              "    }\n",
              "  </style>\n",
              "\n",
              "      <script>\n",
              "        const buttonEl =\n",
              "          document.querySelector('#df-df22569b-bcc3-474c-ba99-7aefcdbe9027 button.colab-df-convert');\n",
              "        buttonEl.style.display =\n",
              "          google.colab.kernel.accessAllowed ? 'block' : 'none';\n",
              "\n",
              "        async function convertToInteractive(key) {\n",
              "          const element = document.querySelector('#df-df22569b-bcc3-474c-ba99-7aefcdbe9027');\n",
              "          const dataTable =\n",
              "            await google.colab.kernel.invokeFunction('convertToInteractive',\n",
              "                                                     [key], {});\n",
              "          if (!dataTable) return;\n",
              "\n",
              "          const docLinkHtml = 'Like what you see? Visit the ' +\n",
              "            '<a target=\"_blank\" href=https://colab.research.google.com/notebooks/data_table.ipynb>data table notebook</a>'\n",
              "            + ' to learn more about interactive tables.';\n",
              "          element.innerHTML = '';\n",
              "          dataTable['output_type'] = 'display_data';\n",
              "          await google.colab.output.renderOutput(dataTable, element);\n",
              "          const docLink = document.createElement('div');\n",
              "          docLink.innerHTML = docLinkHtml;\n",
              "          element.appendChild(docLink);\n",
              "        }\n",
              "      </script>\n",
              "    </div>\n",
              "  </div>\n",
              "  "
            ],
            "text/plain": [
              "   age  sex  cp  trtbps  chol  fbs  ...  exng  oldpeak  slp  caa  thall  output\n",
              "0   63    1   3     145   233    1  ...     0      2.3    0    0      1       1\n",
              "1   37    1   2     130   250    0  ...     0      3.5    0    0      2       1\n",
              "2   41    0   1     130   204    0  ...     0      1.4    2    0      2       1\n",
              "3   56    1   1     120   236    0  ...     0      0.8    2    0      2       1\n",
              "4   57    0   0     120   354    0  ...     1      0.6    2    0      2       1\n",
              "\n",
              "[5 rows x 14 columns]"
            ]
          },
          "metadata": {},
          "execution_count": 2
        }
      ]
    },
    {
      "cell_type": "code",
      "metadata": {
        "id": "JrvapEHm4KwA"
      },
      "source": [
        "def counterTable():\n",
        "  print(\"Rows:\", heart.shape[0], \"| Columns:\",heart.shape[1])"
      ],
      "execution_count": null,
      "outputs": []
    },
    {
      "cell_type": "code",
      "metadata": {
        "colab": {
          "base_uri": "https://localhost:8080/"
        },
        "id": "qKcKofON4fbS",
        "outputId": "3d8eeee4-aa11-4ef9-f3cb-7c981f7a0d71"
      },
      "source": [
        "heart.isnull().sum()"
      ],
      "execution_count": null,
      "outputs": [
        {
          "output_type": "execute_result",
          "data": {
            "text/plain": [
              "age         0\n",
              "sex         0\n",
              "cp          0\n",
              "trtbps      0\n",
              "chol        0\n",
              "fbs         0\n",
              "restecg     0\n",
              "thalachh    0\n",
              "exng        0\n",
              "oldpeak     0\n",
              "slp         0\n",
              "caa         0\n",
              "thall       0\n",
              "output      0\n",
              "dtype: int64"
            ]
          },
          "metadata": {},
          "execution_count": 4
        }
      ]
    },
    {
      "cell_type": "code",
      "metadata": {
        "colab": {
          "base_uri": "https://localhost:8080/",
          "height": 81
        },
        "id": "LQTv-EPR4fK2",
        "outputId": "790a27ca-c444-440a-a7f6-3051a31b3f6a"
      },
      "source": [
        "heart[heart.duplicated()]"
      ],
      "execution_count": null,
      "outputs": [
        {
          "output_type": "execute_result",
          "data": {
            "text/html": [
              "\n",
              "  <div id=\"df-7d3cb7be-783b-408b-9212-bdfd51d1c178\">\n",
              "    <div class=\"colab-df-container\">\n",
              "      <div>\n",
              "<style scoped>\n",
              "    .dataframe tbody tr th:only-of-type {\n",
              "        vertical-align: middle;\n",
              "    }\n",
              "\n",
              "    .dataframe tbody tr th {\n",
              "        vertical-align: top;\n",
              "    }\n",
              "\n",
              "    .dataframe thead th {\n",
              "        text-align: right;\n",
              "    }\n",
              "</style>\n",
              "<table border=\"1\" class=\"dataframe\">\n",
              "  <thead>\n",
              "    <tr style=\"text-align: right;\">\n",
              "      <th></th>\n",
              "      <th>age</th>\n",
              "      <th>sex</th>\n",
              "      <th>cp</th>\n",
              "      <th>trtbps</th>\n",
              "      <th>chol</th>\n",
              "      <th>fbs</th>\n",
              "      <th>restecg</th>\n",
              "      <th>thalachh</th>\n",
              "      <th>exng</th>\n",
              "      <th>oldpeak</th>\n",
              "      <th>slp</th>\n",
              "      <th>caa</th>\n",
              "      <th>thall</th>\n",
              "      <th>output</th>\n",
              "    </tr>\n",
              "  </thead>\n",
              "  <tbody>\n",
              "    <tr>\n",
              "      <th>164</th>\n",
              "      <td>38</td>\n",
              "      <td>1</td>\n",
              "      <td>2</td>\n",
              "      <td>138</td>\n",
              "      <td>175</td>\n",
              "      <td>0</td>\n",
              "      <td>1</td>\n",
              "      <td>173</td>\n",
              "      <td>0</td>\n",
              "      <td>0.0</td>\n",
              "      <td>2</td>\n",
              "      <td>4</td>\n",
              "      <td>2</td>\n",
              "      <td>1</td>\n",
              "    </tr>\n",
              "  </tbody>\n",
              "</table>\n",
              "</div>\n",
              "      <button class=\"colab-df-convert\" onclick=\"convertToInteractive('df-7d3cb7be-783b-408b-9212-bdfd51d1c178')\"\n",
              "              title=\"Convert this dataframe to an interactive table.\"\n",
              "              style=\"display:none;\">\n",
              "        \n",
              "  <svg xmlns=\"http://www.w3.org/2000/svg\" height=\"24px\"viewBox=\"0 0 24 24\"\n",
              "       width=\"24px\">\n",
              "    <path d=\"M0 0h24v24H0V0z\" fill=\"none\"/>\n",
              "    <path d=\"M18.56 5.44l.94 2.06.94-2.06 2.06-.94-2.06-.94-.94-2.06-.94 2.06-2.06.94zm-11 1L8.5 8.5l.94-2.06 2.06-.94-2.06-.94L8.5 2.5l-.94 2.06-2.06.94zm10 10l.94 2.06.94-2.06 2.06-.94-2.06-.94-.94-2.06-.94 2.06-2.06.94z\"/><path d=\"M17.41 7.96l-1.37-1.37c-.4-.4-.92-.59-1.43-.59-.52 0-1.04.2-1.43.59L10.3 9.45l-7.72 7.72c-.78.78-.78 2.05 0 2.83L4 21.41c.39.39.9.59 1.41.59.51 0 1.02-.2 1.41-.59l7.78-7.78 2.81-2.81c.8-.78.8-2.07 0-2.86zM5.41 20L4 18.59l7.72-7.72 1.47 1.35L5.41 20z\"/>\n",
              "  </svg>\n",
              "      </button>\n",
              "      \n",
              "  <style>\n",
              "    .colab-df-container {\n",
              "      display:flex;\n",
              "      flex-wrap:wrap;\n",
              "      gap: 12px;\n",
              "    }\n",
              "\n",
              "    .colab-df-convert {\n",
              "      background-color: #E8F0FE;\n",
              "      border: none;\n",
              "      border-radius: 50%;\n",
              "      cursor: pointer;\n",
              "      display: none;\n",
              "      fill: #1967D2;\n",
              "      height: 32px;\n",
              "      padding: 0 0 0 0;\n",
              "      width: 32px;\n",
              "    }\n",
              "\n",
              "    .colab-df-convert:hover {\n",
              "      background-color: #E2EBFA;\n",
              "      box-shadow: 0px 1px 2px rgba(60, 64, 67, 0.3), 0px 1px 3px 1px rgba(60, 64, 67, 0.15);\n",
              "      fill: #174EA6;\n",
              "    }\n",
              "\n",
              "    [theme=dark] .colab-df-convert {\n",
              "      background-color: #3B4455;\n",
              "      fill: #D2E3FC;\n",
              "    }\n",
              "\n",
              "    [theme=dark] .colab-df-convert:hover {\n",
              "      background-color: #434B5C;\n",
              "      box-shadow: 0px 1px 3px 1px rgba(0, 0, 0, 0.15);\n",
              "      filter: drop-shadow(0px 1px 2px rgba(0, 0, 0, 0.3));\n",
              "      fill: #FFFFFF;\n",
              "    }\n",
              "  </style>\n",
              "\n",
              "      <script>\n",
              "        const buttonEl =\n",
              "          document.querySelector('#df-7d3cb7be-783b-408b-9212-bdfd51d1c178 button.colab-df-convert');\n",
              "        buttonEl.style.display =\n",
              "          google.colab.kernel.accessAllowed ? 'block' : 'none';\n",
              "\n",
              "        async function convertToInteractive(key) {\n",
              "          const element = document.querySelector('#df-7d3cb7be-783b-408b-9212-bdfd51d1c178');\n",
              "          const dataTable =\n",
              "            await google.colab.kernel.invokeFunction('convertToInteractive',\n",
              "                                                     [key], {});\n",
              "          if (!dataTable) return;\n",
              "\n",
              "          const docLinkHtml = 'Like what you see? Visit the ' +\n",
              "            '<a target=\"_blank\" href=https://colab.research.google.com/notebooks/data_table.ipynb>data table notebook</a>'\n",
              "            + ' to learn more about interactive tables.';\n",
              "          element.innerHTML = '';\n",
              "          dataTable['output_type'] = 'display_data';\n",
              "          await google.colab.output.renderOutput(dataTable, element);\n",
              "          const docLink = document.createElement('div');\n",
              "          docLink.innerHTML = docLinkHtml;\n",
              "          element.appendChild(docLink);\n",
              "        }\n",
              "      </script>\n",
              "    </div>\n",
              "  </div>\n",
              "  "
            ],
            "text/plain": [
              "     age  sex  cp  trtbps  chol  fbs  ...  exng  oldpeak  slp  caa  thall  output\n",
              "164   38    1   2     138   175    0  ...     0      0.0    2    4      2       1\n",
              "\n",
              "[1 rows x 14 columns]"
            ]
          },
          "metadata": {},
          "execution_count": 5
        }
      ]
    },
    {
      "cell_type": "code",
      "metadata": {
        "id": "WEUJlJpw4yYd"
      },
      "source": [
        "heart.drop_duplicates(inplace=True)"
      ],
      "execution_count": null,
      "outputs": []
    },
    {
      "cell_type": "code",
      "metadata": {
        "colab": {
          "base_uri": "https://localhost:8080/",
          "height": 300
        },
        "id": "vH4-dhIY46wj",
        "outputId": "b9e0ea1d-dc0b-413f-e20f-57804ba3f75f"
      },
      "source": [
        "heart.describe()"
      ],
      "execution_count": null,
      "outputs": [
        {
          "output_type": "execute_result",
          "data": {
            "text/html": [
              "\n",
              "  <div id=\"df-9e124c12-e00f-4625-9842-42f97f36641e\">\n",
              "    <div class=\"colab-df-container\">\n",
              "      <div>\n",
              "<style scoped>\n",
              "    .dataframe tbody tr th:only-of-type {\n",
              "        vertical-align: middle;\n",
              "    }\n",
              "\n",
              "    .dataframe tbody tr th {\n",
              "        vertical-align: top;\n",
              "    }\n",
              "\n",
              "    .dataframe thead th {\n",
              "        text-align: right;\n",
              "    }\n",
              "</style>\n",
              "<table border=\"1\" class=\"dataframe\">\n",
              "  <thead>\n",
              "    <tr style=\"text-align: right;\">\n",
              "      <th></th>\n",
              "      <th>age</th>\n",
              "      <th>sex</th>\n",
              "      <th>cp</th>\n",
              "      <th>trtbps</th>\n",
              "      <th>chol</th>\n",
              "      <th>fbs</th>\n",
              "      <th>restecg</th>\n",
              "      <th>thalachh</th>\n",
              "      <th>exng</th>\n",
              "      <th>oldpeak</th>\n",
              "      <th>slp</th>\n",
              "      <th>caa</th>\n",
              "      <th>thall</th>\n",
              "      <th>output</th>\n",
              "    </tr>\n",
              "  </thead>\n",
              "  <tbody>\n",
              "    <tr>\n",
              "      <th>count</th>\n",
              "      <td>302.00000</td>\n",
              "      <td>302.000000</td>\n",
              "      <td>302.000000</td>\n",
              "      <td>302.000000</td>\n",
              "      <td>302.000000</td>\n",
              "      <td>302.000000</td>\n",
              "      <td>302.000000</td>\n",
              "      <td>302.000000</td>\n",
              "      <td>302.000000</td>\n",
              "      <td>302.000000</td>\n",
              "      <td>302.000000</td>\n",
              "      <td>302.000000</td>\n",
              "      <td>302.000000</td>\n",
              "      <td>302.000000</td>\n",
              "    </tr>\n",
              "    <tr>\n",
              "      <th>mean</th>\n",
              "      <td>54.42053</td>\n",
              "      <td>0.682119</td>\n",
              "      <td>0.963576</td>\n",
              "      <td>131.602649</td>\n",
              "      <td>246.500000</td>\n",
              "      <td>0.149007</td>\n",
              "      <td>0.526490</td>\n",
              "      <td>149.569536</td>\n",
              "      <td>0.327815</td>\n",
              "      <td>1.043046</td>\n",
              "      <td>1.397351</td>\n",
              "      <td>0.718543</td>\n",
              "      <td>2.314570</td>\n",
              "      <td>0.543046</td>\n",
              "    </tr>\n",
              "    <tr>\n",
              "      <th>std</th>\n",
              "      <td>9.04797</td>\n",
              "      <td>0.466426</td>\n",
              "      <td>1.032044</td>\n",
              "      <td>17.563394</td>\n",
              "      <td>51.753489</td>\n",
              "      <td>0.356686</td>\n",
              "      <td>0.526027</td>\n",
              "      <td>22.903527</td>\n",
              "      <td>0.470196</td>\n",
              "      <td>1.161452</td>\n",
              "      <td>0.616274</td>\n",
              "      <td>1.006748</td>\n",
              "      <td>0.613026</td>\n",
              "      <td>0.498970</td>\n",
              "    </tr>\n",
              "    <tr>\n",
              "      <th>min</th>\n",
              "      <td>29.00000</td>\n",
              "      <td>0.000000</td>\n",
              "      <td>0.000000</td>\n",
              "      <td>94.000000</td>\n",
              "      <td>126.000000</td>\n",
              "      <td>0.000000</td>\n",
              "      <td>0.000000</td>\n",
              "      <td>71.000000</td>\n",
              "      <td>0.000000</td>\n",
              "      <td>0.000000</td>\n",
              "      <td>0.000000</td>\n",
              "      <td>0.000000</td>\n",
              "      <td>0.000000</td>\n",
              "      <td>0.000000</td>\n",
              "    </tr>\n",
              "    <tr>\n",
              "      <th>25%</th>\n",
              "      <td>48.00000</td>\n",
              "      <td>0.000000</td>\n",
              "      <td>0.000000</td>\n",
              "      <td>120.000000</td>\n",
              "      <td>211.000000</td>\n",
              "      <td>0.000000</td>\n",
              "      <td>0.000000</td>\n",
              "      <td>133.250000</td>\n",
              "      <td>0.000000</td>\n",
              "      <td>0.000000</td>\n",
              "      <td>1.000000</td>\n",
              "      <td>0.000000</td>\n",
              "      <td>2.000000</td>\n",
              "      <td>0.000000</td>\n",
              "    </tr>\n",
              "    <tr>\n",
              "      <th>50%</th>\n",
              "      <td>55.50000</td>\n",
              "      <td>1.000000</td>\n",
              "      <td>1.000000</td>\n",
              "      <td>130.000000</td>\n",
              "      <td>240.500000</td>\n",
              "      <td>0.000000</td>\n",
              "      <td>1.000000</td>\n",
              "      <td>152.500000</td>\n",
              "      <td>0.000000</td>\n",
              "      <td>0.800000</td>\n",
              "      <td>1.000000</td>\n",
              "      <td>0.000000</td>\n",
              "      <td>2.000000</td>\n",
              "      <td>1.000000</td>\n",
              "    </tr>\n",
              "    <tr>\n",
              "      <th>75%</th>\n",
              "      <td>61.00000</td>\n",
              "      <td>1.000000</td>\n",
              "      <td>2.000000</td>\n",
              "      <td>140.000000</td>\n",
              "      <td>274.750000</td>\n",
              "      <td>0.000000</td>\n",
              "      <td>1.000000</td>\n",
              "      <td>166.000000</td>\n",
              "      <td>1.000000</td>\n",
              "      <td>1.600000</td>\n",
              "      <td>2.000000</td>\n",
              "      <td>1.000000</td>\n",
              "      <td>3.000000</td>\n",
              "      <td>1.000000</td>\n",
              "    </tr>\n",
              "    <tr>\n",
              "      <th>max</th>\n",
              "      <td>77.00000</td>\n",
              "      <td>1.000000</td>\n",
              "      <td>3.000000</td>\n",
              "      <td>200.000000</td>\n",
              "      <td>564.000000</td>\n",
              "      <td>1.000000</td>\n",
              "      <td>2.000000</td>\n",
              "      <td>202.000000</td>\n",
              "      <td>1.000000</td>\n",
              "      <td>6.200000</td>\n",
              "      <td>2.000000</td>\n",
              "      <td>4.000000</td>\n",
              "      <td>3.000000</td>\n",
              "      <td>1.000000</td>\n",
              "    </tr>\n",
              "  </tbody>\n",
              "</table>\n",
              "</div>\n",
              "      <button class=\"colab-df-convert\" onclick=\"convertToInteractive('df-9e124c12-e00f-4625-9842-42f97f36641e')\"\n",
              "              title=\"Convert this dataframe to an interactive table.\"\n",
              "              style=\"display:none;\">\n",
              "        \n",
              "  <svg xmlns=\"http://www.w3.org/2000/svg\" height=\"24px\"viewBox=\"0 0 24 24\"\n",
              "       width=\"24px\">\n",
              "    <path d=\"M0 0h24v24H0V0z\" fill=\"none\"/>\n",
              "    <path d=\"M18.56 5.44l.94 2.06.94-2.06 2.06-.94-2.06-.94-.94-2.06-.94 2.06-2.06.94zm-11 1L8.5 8.5l.94-2.06 2.06-.94-2.06-.94L8.5 2.5l-.94 2.06-2.06.94zm10 10l.94 2.06.94-2.06 2.06-.94-2.06-.94-.94-2.06-.94 2.06-2.06.94z\"/><path d=\"M17.41 7.96l-1.37-1.37c-.4-.4-.92-.59-1.43-.59-.52 0-1.04.2-1.43.59L10.3 9.45l-7.72 7.72c-.78.78-.78 2.05 0 2.83L4 21.41c.39.39.9.59 1.41.59.51 0 1.02-.2 1.41-.59l7.78-7.78 2.81-2.81c.8-.78.8-2.07 0-2.86zM5.41 20L4 18.59l7.72-7.72 1.47 1.35L5.41 20z\"/>\n",
              "  </svg>\n",
              "      </button>\n",
              "      \n",
              "  <style>\n",
              "    .colab-df-container {\n",
              "      display:flex;\n",
              "      flex-wrap:wrap;\n",
              "      gap: 12px;\n",
              "    }\n",
              "\n",
              "    .colab-df-convert {\n",
              "      background-color: #E8F0FE;\n",
              "      border: none;\n",
              "      border-radius: 50%;\n",
              "      cursor: pointer;\n",
              "      display: none;\n",
              "      fill: #1967D2;\n",
              "      height: 32px;\n",
              "      padding: 0 0 0 0;\n",
              "      width: 32px;\n",
              "    }\n",
              "\n",
              "    .colab-df-convert:hover {\n",
              "      background-color: #E2EBFA;\n",
              "      box-shadow: 0px 1px 2px rgba(60, 64, 67, 0.3), 0px 1px 3px 1px rgba(60, 64, 67, 0.15);\n",
              "      fill: #174EA6;\n",
              "    }\n",
              "\n",
              "    [theme=dark] .colab-df-convert {\n",
              "      background-color: #3B4455;\n",
              "      fill: #D2E3FC;\n",
              "    }\n",
              "\n",
              "    [theme=dark] .colab-df-convert:hover {\n",
              "      background-color: #434B5C;\n",
              "      box-shadow: 0px 1px 3px 1px rgba(0, 0, 0, 0.15);\n",
              "      filter: drop-shadow(0px 1px 2px rgba(0, 0, 0, 0.3));\n",
              "      fill: #FFFFFF;\n",
              "    }\n",
              "  </style>\n",
              "\n",
              "      <script>\n",
              "        const buttonEl =\n",
              "          document.querySelector('#df-9e124c12-e00f-4625-9842-42f97f36641e button.colab-df-convert');\n",
              "        buttonEl.style.display =\n",
              "          google.colab.kernel.accessAllowed ? 'block' : 'none';\n",
              "\n",
              "        async function convertToInteractive(key) {\n",
              "          const element = document.querySelector('#df-9e124c12-e00f-4625-9842-42f97f36641e');\n",
              "          const dataTable =\n",
              "            await google.colab.kernel.invokeFunction('convertToInteractive',\n",
              "                                                     [key], {});\n",
              "          if (!dataTable) return;\n",
              "\n",
              "          const docLinkHtml = 'Like what you see? Visit the ' +\n",
              "            '<a target=\"_blank\" href=https://colab.research.google.com/notebooks/data_table.ipynb>data table notebook</a>'\n",
              "            + ' to learn more about interactive tables.';\n",
              "          element.innerHTML = '';\n",
              "          dataTable['output_type'] = 'display_data';\n",
              "          await google.colab.output.renderOutput(dataTable, element);\n",
              "          const docLink = document.createElement('div');\n",
              "          docLink.innerHTML = docLinkHtml;\n",
              "          element.appendChild(docLink);\n",
              "        }\n",
              "      </script>\n",
              "    </div>\n",
              "  </div>\n",
              "  "
            ],
            "text/plain": [
              "             age         sex          cp  ...         caa       thall      output\n",
              "count  302.00000  302.000000  302.000000  ...  302.000000  302.000000  302.000000\n",
              "mean    54.42053    0.682119    0.963576  ...    0.718543    2.314570    0.543046\n",
              "std      9.04797    0.466426    1.032044  ...    1.006748    0.613026    0.498970\n",
              "min     29.00000    0.000000    0.000000  ...    0.000000    0.000000    0.000000\n",
              "25%     48.00000    0.000000    0.000000  ...    0.000000    2.000000    0.000000\n",
              "50%     55.50000    1.000000    1.000000  ...    0.000000    2.000000    1.000000\n",
              "75%     61.00000    1.000000    2.000000  ...    1.000000    3.000000    1.000000\n",
              "max     77.00000    1.000000    3.000000  ...    4.000000    3.000000    1.000000\n",
              "\n",
              "[8 rows x 14 columns]"
            ]
          },
          "metadata": {},
          "execution_count": 7
        }
      ]
    },
    {
      "cell_type": "code",
      "metadata": {
        "colab": {
          "base_uri": "https://localhost:8080/",
          "height": 488
        },
        "id": "Qb5SmxHL49bn",
        "outputId": "1dd55998-2642-48d2-8832-eec7a4ff8c46"
      },
      "source": [
        "heart.corr()"
      ],
      "execution_count": null,
      "outputs": [
        {
          "output_type": "execute_result",
          "data": {
            "text/html": [
              "\n",
              "  <div id=\"df-598d6c86-6d3a-4e4d-9589-976085e4443d\">\n",
              "    <div class=\"colab-df-container\">\n",
              "      <div>\n",
              "<style scoped>\n",
              "    .dataframe tbody tr th:only-of-type {\n",
              "        vertical-align: middle;\n",
              "    }\n",
              "\n",
              "    .dataframe tbody tr th {\n",
              "        vertical-align: top;\n",
              "    }\n",
              "\n",
              "    .dataframe thead th {\n",
              "        text-align: right;\n",
              "    }\n",
              "</style>\n",
              "<table border=\"1\" class=\"dataframe\">\n",
              "  <thead>\n",
              "    <tr style=\"text-align: right;\">\n",
              "      <th></th>\n",
              "      <th>age</th>\n",
              "      <th>sex</th>\n",
              "      <th>cp</th>\n",
              "      <th>trtbps</th>\n",
              "      <th>chol</th>\n",
              "      <th>fbs</th>\n",
              "      <th>restecg</th>\n",
              "      <th>thalachh</th>\n",
              "      <th>exng</th>\n",
              "      <th>oldpeak</th>\n",
              "      <th>slp</th>\n",
              "      <th>caa</th>\n",
              "      <th>thall</th>\n",
              "      <th>output</th>\n",
              "    </tr>\n",
              "  </thead>\n",
              "  <tbody>\n",
              "    <tr>\n",
              "      <th>age</th>\n",
              "      <td>1.000000</td>\n",
              "      <td>-0.094962</td>\n",
              "      <td>-0.063107</td>\n",
              "      <td>0.283121</td>\n",
              "      <td>0.207216</td>\n",
              "      <td>0.119492</td>\n",
              "      <td>-0.111590</td>\n",
              "      <td>-0.395235</td>\n",
              "      <td>0.093216</td>\n",
              "      <td>0.206040</td>\n",
              "      <td>-0.164124</td>\n",
              "      <td>0.302261</td>\n",
              "      <td>0.065317</td>\n",
              "      <td>-0.221476</td>\n",
              "    </tr>\n",
              "    <tr>\n",
              "      <th>sex</th>\n",
              "      <td>-0.094962</td>\n",
              "      <td>1.000000</td>\n",
              "      <td>-0.051740</td>\n",
              "      <td>-0.057647</td>\n",
              "      <td>-0.195571</td>\n",
              "      <td>0.046022</td>\n",
              "      <td>-0.060351</td>\n",
              "      <td>-0.046439</td>\n",
              "      <td>0.143460</td>\n",
              "      <td>0.098322</td>\n",
              "      <td>-0.032990</td>\n",
              "      <td>0.113060</td>\n",
              "      <td>0.211452</td>\n",
              "      <td>-0.283609</td>\n",
              "    </tr>\n",
              "    <tr>\n",
              "      <th>cp</th>\n",
              "      <td>-0.063107</td>\n",
              "      <td>-0.051740</td>\n",
              "      <td>1.000000</td>\n",
              "      <td>0.046486</td>\n",
              "      <td>-0.072682</td>\n",
              "      <td>0.096018</td>\n",
              "      <td>0.041561</td>\n",
              "      <td>0.293367</td>\n",
              "      <td>-0.392937</td>\n",
              "      <td>-0.146692</td>\n",
              "      <td>0.116854</td>\n",
              "      <td>-0.195356</td>\n",
              "      <td>-0.160370</td>\n",
              "      <td>0.432080</td>\n",
              "    </tr>\n",
              "    <tr>\n",
              "      <th>trtbps</th>\n",
              "      <td>0.283121</td>\n",
              "      <td>-0.057647</td>\n",
              "      <td>0.046486</td>\n",
              "      <td>1.000000</td>\n",
              "      <td>0.125256</td>\n",
              "      <td>0.178125</td>\n",
              "      <td>-0.115367</td>\n",
              "      <td>-0.048023</td>\n",
              "      <td>0.068526</td>\n",
              "      <td>0.194600</td>\n",
              "      <td>-0.122873</td>\n",
              "      <td>0.099248</td>\n",
              "      <td>0.062870</td>\n",
              "      <td>-0.146269</td>\n",
              "    </tr>\n",
              "    <tr>\n",
              "      <th>chol</th>\n",
              "      <td>0.207216</td>\n",
              "      <td>-0.195571</td>\n",
              "      <td>-0.072682</td>\n",
              "      <td>0.125256</td>\n",
              "      <td>1.000000</td>\n",
              "      <td>0.011428</td>\n",
              "      <td>-0.147602</td>\n",
              "      <td>-0.005308</td>\n",
              "      <td>0.064099</td>\n",
              "      <td>0.050086</td>\n",
              "      <td>0.000417</td>\n",
              "      <td>0.086878</td>\n",
              "      <td>0.096810</td>\n",
              "      <td>-0.081437</td>\n",
              "    </tr>\n",
              "    <tr>\n",
              "      <th>fbs</th>\n",
              "      <td>0.119492</td>\n",
              "      <td>0.046022</td>\n",
              "      <td>0.096018</td>\n",
              "      <td>0.178125</td>\n",
              "      <td>0.011428</td>\n",
              "      <td>1.000000</td>\n",
              "      <td>-0.083081</td>\n",
              "      <td>-0.007169</td>\n",
              "      <td>0.024729</td>\n",
              "      <td>0.004514</td>\n",
              "      <td>-0.058654</td>\n",
              "      <td>0.144935</td>\n",
              "      <td>-0.032752</td>\n",
              "      <td>-0.026826</td>\n",
              "    </tr>\n",
              "    <tr>\n",
              "      <th>restecg</th>\n",
              "      <td>-0.111590</td>\n",
              "      <td>-0.060351</td>\n",
              "      <td>0.041561</td>\n",
              "      <td>-0.115367</td>\n",
              "      <td>-0.147602</td>\n",
              "      <td>-0.083081</td>\n",
              "      <td>1.000000</td>\n",
              "      <td>0.041210</td>\n",
              "      <td>-0.068807</td>\n",
              "      <td>-0.056251</td>\n",
              "      <td>0.090402</td>\n",
              "      <td>-0.083112</td>\n",
              "      <td>-0.010473</td>\n",
              "      <td>0.134874</td>\n",
              "    </tr>\n",
              "    <tr>\n",
              "      <th>thalachh</th>\n",
              "      <td>-0.395235</td>\n",
              "      <td>-0.046439</td>\n",
              "      <td>0.293367</td>\n",
              "      <td>-0.048023</td>\n",
              "      <td>-0.005308</td>\n",
              "      <td>-0.007169</td>\n",
              "      <td>0.041210</td>\n",
              "      <td>1.000000</td>\n",
              "      <td>-0.377411</td>\n",
              "      <td>-0.342201</td>\n",
              "      <td>0.384754</td>\n",
              "      <td>-0.228311</td>\n",
              "      <td>-0.094910</td>\n",
              "      <td>0.419955</td>\n",
              "    </tr>\n",
              "    <tr>\n",
              "      <th>exng</th>\n",
              "      <td>0.093216</td>\n",
              "      <td>0.143460</td>\n",
              "      <td>-0.392937</td>\n",
              "      <td>0.068526</td>\n",
              "      <td>0.064099</td>\n",
              "      <td>0.024729</td>\n",
              "      <td>-0.068807</td>\n",
              "      <td>-0.377411</td>\n",
              "      <td>1.000000</td>\n",
              "      <td>0.286766</td>\n",
              "      <td>-0.256106</td>\n",
              "      <td>0.125377</td>\n",
              "      <td>0.205826</td>\n",
              "      <td>-0.435601</td>\n",
              "    </tr>\n",
              "    <tr>\n",
              "      <th>oldpeak</th>\n",
              "      <td>0.206040</td>\n",
              "      <td>0.098322</td>\n",
              "      <td>-0.146692</td>\n",
              "      <td>0.194600</td>\n",
              "      <td>0.050086</td>\n",
              "      <td>0.004514</td>\n",
              "      <td>-0.056251</td>\n",
              "      <td>-0.342201</td>\n",
              "      <td>0.286766</td>\n",
              "      <td>1.000000</td>\n",
              "      <td>-0.576314</td>\n",
              "      <td>0.236560</td>\n",
              "      <td>0.209090</td>\n",
              "      <td>-0.429146</td>\n",
              "    </tr>\n",
              "    <tr>\n",
              "      <th>slp</th>\n",
              "      <td>-0.164124</td>\n",
              "      <td>-0.032990</td>\n",
              "      <td>0.116854</td>\n",
              "      <td>-0.122873</td>\n",
              "      <td>0.000417</td>\n",
              "      <td>-0.058654</td>\n",
              "      <td>0.090402</td>\n",
              "      <td>0.384754</td>\n",
              "      <td>-0.256106</td>\n",
              "      <td>-0.576314</td>\n",
              "      <td>1.000000</td>\n",
              "      <td>-0.092236</td>\n",
              "      <td>-0.103314</td>\n",
              "      <td>0.343940</td>\n",
              "    </tr>\n",
              "    <tr>\n",
              "      <th>caa</th>\n",
              "      <td>0.302261</td>\n",
              "      <td>0.113060</td>\n",
              "      <td>-0.195356</td>\n",
              "      <td>0.099248</td>\n",
              "      <td>0.086878</td>\n",
              "      <td>0.144935</td>\n",
              "      <td>-0.083112</td>\n",
              "      <td>-0.228311</td>\n",
              "      <td>0.125377</td>\n",
              "      <td>0.236560</td>\n",
              "      <td>-0.092236</td>\n",
              "      <td>1.000000</td>\n",
              "      <td>0.160085</td>\n",
              "      <td>-0.408992</td>\n",
              "    </tr>\n",
              "    <tr>\n",
              "      <th>thall</th>\n",
              "      <td>0.065317</td>\n",
              "      <td>0.211452</td>\n",
              "      <td>-0.160370</td>\n",
              "      <td>0.062870</td>\n",
              "      <td>0.096810</td>\n",
              "      <td>-0.032752</td>\n",
              "      <td>-0.010473</td>\n",
              "      <td>-0.094910</td>\n",
              "      <td>0.205826</td>\n",
              "      <td>0.209090</td>\n",
              "      <td>-0.103314</td>\n",
              "      <td>0.160085</td>\n",
              "      <td>1.000000</td>\n",
              "      <td>-0.343101</td>\n",
              "    </tr>\n",
              "    <tr>\n",
              "      <th>output</th>\n",
              "      <td>-0.221476</td>\n",
              "      <td>-0.283609</td>\n",
              "      <td>0.432080</td>\n",
              "      <td>-0.146269</td>\n",
              "      <td>-0.081437</td>\n",
              "      <td>-0.026826</td>\n",
              "      <td>0.134874</td>\n",
              "      <td>0.419955</td>\n",
              "      <td>-0.435601</td>\n",
              "      <td>-0.429146</td>\n",
              "      <td>0.343940</td>\n",
              "      <td>-0.408992</td>\n",
              "      <td>-0.343101</td>\n",
              "      <td>1.000000</td>\n",
              "    </tr>\n",
              "  </tbody>\n",
              "</table>\n",
              "</div>\n",
              "      <button class=\"colab-df-convert\" onclick=\"convertToInteractive('df-598d6c86-6d3a-4e4d-9589-976085e4443d')\"\n",
              "              title=\"Convert this dataframe to an interactive table.\"\n",
              "              style=\"display:none;\">\n",
              "        \n",
              "  <svg xmlns=\"http://www.w3.org/2000/svg\" height=\"24px\"viewBox=\"0 0 24 24\"\n",
              "       width=\"24px\">\n",
              "    <path d=\"M0 0h24v24H0V0z\" fill=\"none\"/>\n",
              "    <path d=\"M18.56 5.44l.94 2.06.94-2.06 2.06-.94-2.06-.94-.94-2.06-.94 2.06-2.06.94zm-11 1L8.5 8.5l.94-2.06 2.06-.94-2.06-.94L8.5 2.5l-.94 2.06-2.06.94zm10 10l.94 2.06.94-2.06 2.06-.94-2.06-.94-.94-2.06-.94 2.06-2.06.94z\"/><path d=\"M17.41 7.96l-1.37-1.37c-.4-.4-.92-.59-1.43-.59-.52 0-1.04.2-1.43.59L10.3 9.45l-7.72 7.72c-.78.78-.78 2.05 0 2.83L4 21.41c.39.39.9.59 1.41.59.51 0 1.02-.2 1.41-.59l7.78-7.78 2.81-2.81c.8-.78.8-2.07 0-2.86zM5.41 20L4 18.59l7.72-7.72 1.47 1.35L5.41 20z\"/>\n",
              "  </svg>\n",
              "      </button>\n",
              "      \n",
              "  <style>\n",
              "    .colab-df-container {\n",
              "      display:flex;\n",
              "      flex-wrap:wrap;\n",
              "      gap: 12px;\n",
              "    }\n",
              "\n",
              "    .colab-df-convert {\n",
              "      background-color: #E8F0FE;\n",
              "      border: none;\n",
              "      border-radius: 50%;\n",
              "      cursor: pointer;\n",
              "      display: none;\n",
              "      fill: #1967D2;\n",
              "      height: 32px;\n",
              "      padding: 0 0 0 0;\n",
              "      width: 32px;\n",
              "    }\n",
              "\n",
              "    .colab-df-convert:hover {\n",
              "      background-color: #E2EBFA;\n",
              "      box-shadow: 0px 1px 2px rgba(60, 64, 67, 0.3), 0px 1px 3px 1px rgba(60, 64, 67, 0.15);\n",
              "      fill: #174EA6;\n",
              "    }\n",
              "\n",
              "    [theme=dark] .colab-df-convert {\n",
              "      background-color: #3B4455;\n",
              "      fill: #D2E3FC;\n",
              "    }\n",
              "\n",
              "    [theme=dark] .colab-df-convert:hover {\n",
              "      background-color: #434B5C;\n",
              "      box-shadow: 0px 1px 3px 1px rgba(0, 0, 0, 0.15);\n",
              "      filter: drop-shadow(0px 1px 2px rgba(0, 0, 0, 0.3));\n",
              "      fill: #FFFFFF;\n",
              "    }\n",
              "  </style>\n",
              "\n",
              "      <script>\n",
              "        const buttonEl =\n",
              "          document.querySelector('#df-598d6c86-6d3a-4e4d-9589-976085e4443d button.colab-df-convert');\n",
              "        buttonEl.style.display =\n",
              "          google.colab.kernel.accessAllowed ? 'block' : 'none';\n",
              "\n",
              "        async function convertToInteractive(key) {\n",
              "          const element = document.querySelector('#df-598d6c86-6d3a-4e4d-9589-976085e4443d');\n",
              "          const dataTable =\n",
              "            await google.colab.kernel.invokeFunction('convertToInteractive',\n",
              "                                                     [key], {});\n",
              "          if (!dataTable) return;\n",
              "\n",
              "          const docLinkHtml = 'Like what you see? Visit the ' +\n",
              "            '<a target=\"_blank\" href=https://colab.research.google.com/notebooks/data_table.ipynb>data table notebook</a>'\n",
              "            + ' to learn more about interactive tables.';\n",
              "          element.innerHTML = '';\n",
              "          dataTable['output_type'] = 'display_data';\n",
              "          await google.colab.output.renderOutput(dataTable, element);\n",
              "          const docLink = document.createElement('div');\n",
              "          docLink.innerHTML = docLinkHtml;\n",
              "          element.appendChild(docLink);\n",
              "        }\n",
              "      </script>\n",
              "    </div>\n",
              "  </div>\n",
              "  "
            ],
            "text/plain": [
              "               age       sex        cp  ...       caa     thall    output\n",
              "age       1.000000 -0.094962 -0.063107  ...  0.302261  0.065317 -0.221476\n",
              "sex      -0.094962  1.000000 -0.051740  ...  0.113060  0.211452 -0.283609\n",
              "cp       -0.063107 -0.051740  1.000000  ... -0.195356 -0.160370  0.432080\n",
              "trtbps    0.283121 -0.057647  0.046486  ...  0.099248  0.062870 -0.146269\n",
              "chol      0.207216 -0.195571 -0.072682  ...  0.086878  0.096810 -0.081437\n",
              "fbs       0.119492  0.046022  0.096018  ...  0.144935 -0.032752 -0.026826\n",
              "restecg  -0.111590 -0.060351  0.041561  ... -0.083112 -0.010473  0.134874\n",
              "thalachh -0.395235 -0.046439  0.293367  ... -0.228311 -0.094910  0.419955\n",
              "exng      0.093216  0.143460 -0.392937  ...  0.125377  0.205826 -0.435601\n",
              "oldpeak   0.206040  0.098322 -0.146692  ...  0.236560  0.209090 -0.429146\n",
              "slp      -0.164124 -0.032990  0.116854  ... -0.092236 -0.103314  0.343940\n",
              "caa       0.302261  0.113060 -0.195356  ...  1.000000  0.160085 -0.408992\n",
              "thall     0.065317  0.211452 -0.160370  ...  0.160085  1.000000 -0.343101\n",
              "output   -0.221476 -0.283609  0.432080  ... -0.408992 -0.343101  1.000000\n",
              "\n",
              "[14 rows x 14 columns]"
            ]
          },
          "metadata": {},
          "execution_count": 8
        }
      ]
    },
    {
      "cell_type": "code",
      "metadata": {
        "colab": {
          "base_uri": "https://localhost:8080/",
          "height": 297
        },
        "id": "gXFbOzQp9HXB",
        "outputId": "81b0f00d-2726-459b-97b1-be12d5b5e67f"
      },
      "source": [
        "x = (heart.sex.value_counts())  \n",
        "print(x[0], x[1])\n",
        "p = sns.countplot(data = heart, x = \"sex\")\n",
        "plt.show()"
      ],
      "execution_count": null,
      "outputs": [
        {
          "output_type": "stream",
          "name": "stdout",
          "text": [
            "96 206\n"
          ]
        },
        {
          "output_type": "display_data",
          "data": {
            "image/png": "[encoded data removed]",
            "text/plain": [
              "<Figure size 432x288 with 1 Axes>"
            ]
          },
          "metadata": {
            "needs_background": "light"
          }
        }
      ]
    },
    {
      "cell_type": "code",
      "metadata": {
        "colab": {
          "base_uri": "https://localhost:8080/",
          "height": 334
        },
        "id": "KQqmgpg0-OtV",
        "outputId": "0de9c06c-d506-4b6a-90ea-cc25cb4f3c9f"
      },
      "source": [
        "x = (heart.fbs.value_counts())\n",
        "print(x)\n",
        "p = sns.countplot(data = heart, x = \"fbs\")\n",
        "plt.show()"
      ],
      "execution_count": null,
      "outputs": [
        {
          "output_type": "stream",
          "name": "stdout",
          "text": [
            "0    257\n",
            "1     45\n",
            "Name: fbs, dtype: int64\n"
          ]
        },
        {
          "output_type": "display_data",
          "data": {
            "image/png": "[encoded data removed]",
            "text/plain": [
              "<Figure size 432x288 with 1 Axes>"
            ]
          },
          "metadata": {
            "needs_background": "light"
          }
        }
      ]
    },
    {
      "cell_type": "code",
      "metadata": {
        "colab": {
          "base_uri": "https://localhost:8080/",
          "height": 406
        },
        "id": "O-7ZuBaJfPAq",
        "outputId": "e3045b5b-830b-4835-8354-257e6909c213"
      },
      "source": [
        "plt.figure(figsize=(10,10))\n",
        "sns.displot(heart.age, color=\"#27a2a8\", label=\"age\", kde=True)\n",
        "plt.legend()"
      ],
      "execution_count": null,
      "outputs": [
        {
          "output_type": "execute_result",
          "data": {
            "text/plain": [
              "<matplotlib.legend.Legend at 0x7fd609410b10>"
            ]
          },
          "metadata": {},
          "execution_count": 11
        },
        {
          "output_type": "display_data",
          "data": {
            "text/plain": [
              "<Figure size 720x720 with 0 Axes>"
            ]
          },
          "metadata": {}
        },
        {
          "output_type": "display_data",
          "data": {
            "image/png": "[encoded data removed]",
            "text/plain": [
              "<Figure size 360x360 with 1 Axes>"
            ]
          },
          "metadata": {
            "needs_background": "light"
          }
        }
      ]
    },
    {
      "cell_type": "code",
      "metadata": {
        "colab": {
          "base_uri": "https://localhost:8080/",
          "height": 406
        },
        "id": "h3cSDF5nf8Yp",
        "outputId": "6fe86134-6191-46be-d5bb-5fa68522c32a"
      },
      "source": [
        "plt.figure(figsize=(20, 20))\n",
        "sns.displot(heart.trtbps, color=\"#40de4b\", label=\"Blood Pressure\", kde=True)\n",
        "plt.legend()"
      ],
      "execution_count": null,
      "outputs": [
        {
          "output_type": "execute_result",
          "data": {
            "text/plain": [
              "<matplotlib.legend.Legend at 0x7fd5fd8d8510>"
            ]
          },
          "metadata": {},
          "execution_count": 12
        },
        {
          "output_type": "display_data",
          "data": {
            "text/plain": [
              "<Figure size 1440x1440 with 0 Axes>"
            ]
          },
          "metadata": {}
        },
        {
          "output_type": "display_data",
          "data": {
            "image/png": "[encoded data removed]",
            "text/plain": [
              "<Figure size 360x360 with 1 Axes>"
            ]
          },
          "metadata": {
            "needs_background": "light"
          }
        }
      ]
    },
    {
      "cell_type": "code",
      "metadata": {
        "colab": {
          "base_uri": "https://localhost:8080/",
          "height": 755
        },
        "id": "bGZT7PhFhE_e",
        "outputId": "3ece067e-1e71-4d4a-b0b5-ce219dbdeabf"
      },
      "source": [
        "plt.figure(figsize=(20,20))\n",
        "sns.displot(heart[heart['output'] == 0][\"chol\"], color=\"#40de4b\", kde=True,)\n",
        "sns.displot(heart[heart['output'] == 1][\"chol\"], color=\"#de8f40\", kde=True)\n",
        "plt.title('Cholestrol vs Age')\n",
        "plt.show()"
      ],
      "execution_count": null,
      "outputs": [
        {
          "output_type": "display_data",
          "data": {
            "text/plain": [
              "<Figure size 1440x1440 with 0 Axes>"
            ]
          },
          "metadata": {}
        },
        {
          "output_type": "display_data",
          "data": {
            "image/png": "[encoded data removed]",
            "text/plain": [
              "<Figure size 360x360 with 1 Axes>"
            ]
          },
          "metadata": {
            "needs_background": "light"
          }
        },
        {
          "output_type": "display_data",
          "data": {
            "image/png": "[encoded data removed]",
            "text/plain": [
              "<Figure size 360x360 with 1 Axes>"
            ]
          },
          "metadata": {
            "needs_background": "light"
          }
        }
      ]
    },
    {
      "cell_type": "markdown",
      "metadata": {
        "id": "PaUnuZOQkDCR"
      },
      "source": [
        "\n",
        "\n",
        "---\n",
        "\n",
        "\n",
        "# **Data Processing**\n",
        "\n",
        "\n"
      ]
    },
    {
      "cell_type": "code",
      "metadata": {
        "colab": {
          "base_uri": "https://localhost:8080/"
        },
        "id": "m-u_I9GJk_Xw",
        "outputId": "09f39054-7d2f-4d78-c295-4df288e60320"
      },
      "source": [
        "x = heart.iloc[:, 1:-1].values\n",
        "y = heart.iloc[:, -1].values\n",
        "x,y"
      ],
      "execution_count": null,
      "outputs": [
        {
          "output_type": "execute_result",
          "data": {
            "text/plain": [
              "(array([[  1.,   3., 145., ...,   0.,   0.,   1.],\n",
              "        [  1.,   2., 130., ...,   0.,   0.,   2.],\n",
              "        [  0.,   1., 130., ...,   2.,   0.,   2.],\n",
              "        ...,\n",
              "        [  1.,   0., 144., ...,   1.,   2.,   3.],\n",
              "        [  1.,   0., 130., ...,   1.,   1.,   3.],\n",
              "        [  0.,   1., 130., ...,   1.,   1.,   2.]]),\n",
              " array([1, 1, 1, 1, 1, 1, 1, 1, 1, 1, 1, 1, 1, 1, 1, 1, 1, 1, 1, 1, 1, 1,\n",
              "        1, 1, 1, 1, 1, 1, 1, 1, 1, 1, 1, 1, 1, 1, 1, 1, 1, 1, 1, 1, 1, 1,\n",
              "        1, 1, 1, 1, 1, 1, 1, 1, 1, 1, 1, 1, 1, 1, 1, 1, 1, 1, 1, 1, 1, 1,\n",
              "        1, 1, 1, 1, 1, 1, 1, 1, 1, 1, 1, 1, 1, 1, 1, 1, 1, 1, 1, 1, 1, 1,\n",
              "        1, 1, 1, 1, 1, 1, 1, 1, 1, 1, 1, 1, 1, 1, 1, 1, 1, 1, 1, 1, 1, 1,\n",
              "        1, 1, 1, 1, 1, 1, 1, 1, 1, 1, 1, 1, 1, 1, 1, 1, 1, 1, 1, 1, 1, 1,\n",
              "        1, 1, 1, 1, 1, 1, 1, 1, 1, 1, 1, 1, 1, 1, 1, 1, 1, 1, 1, 1, 1, 1,\n",
              "        1, 1, 1, 1, 1, 1, 1, 1, 1, 1, 0, 0, 0, 0, 0, 0, 0, 0, 0, 0, 0, 0,\n",
              "        0, 0, 0, 0, 0, 0, 0, 0, 0, 0, 0, 0, 0, 0, 0, 0, 0, 0, 0, 0, 0, 0,\n",
              "        0, 0, 0, 0, 0, 0, 0, 0, 0, 0, 0, 0, 0, 0, 0, 0, 0, 0, 0, 0, 0, 0,\n",
              "        0, 0, 0, 0, 0, 0, 0, 0, 0, 0, 0, 0, 0, 0, 0, 0, 0, 0, 0, 0, 0, 0,\n",
              "        0, 0, 0, 0, 0, 0, 0, 0, 0, 0, 0, 0, 0, 0, 0, 0, 0, 0, 0, 0, 0, 0,\n",
              "        0, 0, 0, 0, 0, 0, 0, 0, 0, 0, 0, 0, 0, 0, 0, 0, 0, 0, 0, 0, 0, 0,\n",
              "        0, 0, 0, 0, 0, 0, 0, 0, 0, 0, 0, 0, 0, 0, 0, 0]))"
            ]
          },
          "metadata": {},
          "execution_count": 14
        }
      ]
    },
    {
      "cell_type": "code",
      "metadata": {
        "colab": {
          "base_uri": "https://localhost:8080/"
        },
        "id": "XVj5_KvTlYL8",
        "outputId": "4ca5ac4e-2165-4dd8-ebef-c7ff5117a08e"
      },
      "source": [
        "x_train, x_test, y_train, y_test = train_test_split(x,y, test_size = 0.2, random_state = 0)\n",
        "\n",
        "print(\"Training data:\", x_train.shape, y_train.shape)\n",
        "print(\"Testing data:\", x_test.shape, y_test.shape)"
      ],
      "execution_count": null,
      "outputs": [
        {
          "output_type": "stream",
          "name": "stdout",
          "text": [
            "Training data: (241, 12) (241,)\n",
            "Testing data: (61, 12) (61,)\n"
          ]
        }
      ]
    },
    {
      "cell_type": "markdown",
      "metadata": {
        "id": "vjGy3aAtqYDG"
      },
      "source": [
        "**Feature Scaling**"
      ]
    },
    {
      "cell_type": "code",
      "metadata": {
        "colab": {
          "base_uri": "https://localhost:8080/"
        },
        "id": "sxCAgTzNl7qW",
        "outputId": "eb30e892-d846-454c-888e-fe93258e5506"
      },
      "source": [
        "scaler = StandardScaler()\n",
        "x_train = scaler.fit_transform(x_train)\n",
        "x_test = scaler.transform(x_test)\n",
        "\n",
        "x_train, x_test"
      ],
      "execution_count": null,
      "outputs": [
        {
          "output_type": "execute_result",
          "data": {
            "text/plain": [
              "(array([[-1.4186261 ,  0.98544689, -0.55988902, ..., -0.61492051,\n",
              "         -0.70674006, -0.49876142],\n",
              "        [-1.4186261 ,  0.98544689,  0.81698091, ..., -0.61492051,\n",
              "          0.29516791, -0.49876142],\n",
              "        [ 0.70490738,  0.98544689,  0.47276343, ...,  0.99590387,\n",
              "         -0.70674006, -0.49876142],\n",
              "        ...,\n",
              "        [ 0.70490738,  1.94307874, -0.67462818, ..., -0.61492051,\n",
              "         -0.70674006,  1.1478345 ],\n",
              "        [ 0.70490738,  0.98544689,  0.35802427, ...,  0.99590387,\n",
              "         -0.70674006, -0.49876142],\n",
              "        [ 0.70490738,  0.98544689,  0.01380679, ...,  0.99590387,\n",
              "          1.29707587,  1.1478345 ]]),\n",
              " array([[ 0.70490738,  0.02781503, -0.67462818,  0.65089023, -0.40527917,\n",
              "         -0.97525383, -1.96657306, -0.6983225 ,  0.27236593, -0.61492051,\n",
              "          0.29516791,  1.1478345 ],\n",
              "        [ 0.70490738,  1.94307874,  2.19385084, -0.36856884, -0.40527917,\n",
              "         -0.97525383,  0.23525787, -0.6983225 , -0.39657867, -0.61492051,\n",
              "         -0.70674006,  1.1478345 ],\n",
              "        [ 0.70490738,  0.98544689, -0.38778028,  1.17949864, -0.40527917,\n",
              "          0.90503556, -0.78097179,  1.43200311,  0.60683823, -0.61492051,\n",
              "         -0.70674006,  1.1478345 ],\n",
              "        [ 0.70490738, -0.92981682,  1.04645923,  0.44322264, -0.40527917,\n",
              "         -0.97525383, -1.62782984,  1.43200311, -0.22934252,  0.99590387,\n",
              "         -0.70674006,  1.1478345 ],\n",
              "        [ 0.70490738,  0.98544689, -0.10093237, -0.29305336, -0.40527917,\n",
              "          0.90503556, -0.14582825, -0.6983225 ,  0.60683823, -0.61492051,\n",
              "          2.29898383,  1.1478345 ],\n",
              "        [-1.4186261 , -0.92981682,  0.12854595,  3.06738581, -0.40527917,\n",
              "         -0.97525383,  0.02354336,  1.43200311,  0.6904563 , -0.61492051,\n",
              "          1.29707587,  1.1478345 ],\n",
              "        [ 0.70490738, -0.92981682, -0.84673692, -0.31193223,  2.46743496,\n",
              "          0.90503556,  0.44697238,  1.43200311,  0.27236593,  0.99590387,\n",
              "          1.29707587,  1.1478345 ],\n",
              "        [ 0.70490738, -0.92981682,  0.47276343, -0.82166177,  2.46743496,\n",
              "         -0.97525383,  0.23525787,  1.43200311,  1.6938732 , -2.22574489,\n",
              "         -0.70674006,  1.1478345 ],\n",
              "        [ 0.70490738, -0.92981682, -1.24832398, -0.14202238, -0.40527917,\n",
              "          0.90503556, -0.9926863 ,  1.43200311,  1.44301898, -0.61492051,\n",
              "          0.29516791,  1.1478345 ],\n",
              "        [ 0.70490738, -0.92981682,  0.18591553,  0.14116069, -0.40527917,\n",
              "         -0.97525383, -0.9503434 , -0.6983225 ,  1.44301898, -0.61492051,\n",
              "          0.29516791,  1.1478345 ],\n",
              "        [ 0.70490738,  0.98544689,  1.04645923, -2.27533489,  2.46743496,\n",
              "          0.90503556,  0.99743011, -0.6983225 , -0.73105097,  0.99590387,\n",
              "          0.29516791,  1.1478345 ],\n",
              "        [-1.4186261 , -0.92981682, -0.10093237,  0.42434377, -0.40527917,\n",
              "          0.90503556,  0.57400109, -0.6983225 , -0.89828712,  0.99590387,\n",
              "         -0.70674006, -0.49876142],\n",
              "        [ 0.70490738, -0.92981682, -0.10093237,  0.17891844,  2.46743496,\n",
              "         -0.97525383,  0.02354336,  1.43200311, -0.89828712,  0.99590387,\n",
              "          1.29707587,  1.1478345 ],\n",
              "        [ 0.70490738,  0.02781503, -0.10093237,  0.36770715, -0.40527917,\n",
              "          0.90503556,  0.91274431, -0.6983225 , -0.39657867,  0.99590387,\n",
              "         -0.70674006, -0.49876142],\n",
              "        [-1.4186261 ,  0.98544689, -0.67462818, -0.51959982, -0.40527917,\n",
              "          0.90503556,  0.36228658, -0.6983225 ,  0.43960208, -0.61492051,\n",
              "         -0.70674006, -0.49876142],\n",
              "        [ 0.70490738,  0.98544689, -1.82201979, -0.4629632 , -0.40527917,\n",
              "          0.90503556, -0.27285696,  1.43200311,  0.10512978, -0.61492051,\n",
              "         -0.70674006, -0.49876142],\n",
              "        [ 0.70490738, -0.92981682, -1.36306314, -0.25529561,  2.46743496,\n",
              "          0.90503556, -0.10348535, -0.6983225 , -0.81466905,  0.99590387,\n",
              "          2.29898383,  1.1478345 ],\n",
              "        [ 0.70490738,  0.98544689, -0.44514986,  0.16003956,  2.46743496,\n",
              "          0.90503556,  1.08211592, -0.6983225 , -0.89828712,  0.99590387,\n",
              "          1.29707587, -0.49876142],\n",
              "        [ 0.70490738, -0.92981682, -1.24832398,  0.02788746, -0.40527917,\n",
              "         -0.97525383,  0.36228658, -0.6983225 , -0.39657867,  0.99590387,\n",
              "          1.29707587, -2.14535734],\n",
              "        [ 0.70490738,  0.98544689, -0.67462818, -0.12314351,  2.46743496,\n",
              "          0.90503556,  1.88663107, -0.6983225 , -0.22934252, -2.22574489,\n",
              "         -0.70674006,  1.1478345 ],\n",
              "        [ 0.70490738, -0.92981682,  0.47276343, -0.38744772, -0.40527917,\n",
              "          0.90503556,  1.20914463, -0.6983225 , -0.89828712,  0.99590387,\n",
              "         -0.70674006, -0.49876142],\n",
              "        [-1.4186261 , -0.92981682,  0.75961133,  1.1417409 , -0.40527917,\n",
              "         -0.97525383, -0.14582825,  1.43200311, -0.06210637, -0.61492051,\n",
              "         -0.70674006,  1.1478345 ],\n",
              "        [ 0.70490738, -0.92981682, -0.67462818, -0.91605613, -0.40527917,\n",
              "          0.90503556, -0.82331469,  1.43200311,  0.43960208, -0.61492051,\n",
              "         -0.70674006,  1.1478345 ],\n",
              "        [ 0.70490738, -0.92981682, -1.13358482, -0.65175192, -0.40527917,\n",
              "         -0.97525383, -0.73862889,  1.43200311, -0.81466905,  0.99590387,\n",
              "          0.29516791, -0.49876142],\n",
              "        [ 0.70490738,  0.02781503, -1.24832398, -0.21753787, -0.40527917,\n",
              "          0.90503556,  0.15057206, -0.6983225 , -0.89828712,  0.99590387,\n",
              "         -0.70674006, -0.49876142],\n",
              "        [ 0.70490738, -0.92981682, -0.10093237,  1.57595495,  2.46743496,\n",
              "         -0.97525383, -0.73862889,  1.43200311,  0.60683823,  0.99590387,\n",
              "          2.29898383,  1.1478345 ],\n",
              "        [ 0.70490738, -0.92981682,  0.81698091, -0.53847869, -0.40527917,\n",
              "          0.90503556, -1.88188726, -0.6983225 ,  0.77407438, -0.61492051,\n",
              "          0.29516791,  1.1478345 ],\n",
              "        [ 0.70490738,  1.94307874,  0.12854595, -0.23641674, -0.40527917,\n",
              "          0.90503556, -0.18817116, -0.6983225 ,  1.27578283, -0.61492051,\n",
              "          1.29707587, -0.49876142],\n",
              "        [-1.4186261 ,  0.98544689,  0.35802427, -0.50072095, -0.40527917,\n",
              "          0.90503556,  0.10822916, -0.6983225 , -0.89828712, -0.61492051,\n",
              "         -0.70674006, -0.49876142],\n",
              "        [ 0.70490738,  0.02781503,  0.12854595, -0.85941951, -0.40527917,\n",
              "          0.90503556,  0.36228658, -0.6983225 , -0.22934252,  0.99590387,\n",
              "          0.29516791, -0.49876142],\n",
              "        [ 0.70490738, -0.92981682,  2.19385084,  1.50043946, -0.40527917,\n",
              "         -0.97525383, -0.39988567,  1.43200311,  1.94472743, -2.22574489,\n",
              "         -0.70674006,  1.1478345 ],\n",
              "        [ 0.70490738, -0.92981682, -0.21567153,  0.23555505, -0.40527917,\n",
              "         -0.97525383, -0.82331469,  1.43200311,  1.61025513, -0.61492051,\n",
              "          1.29707587,  1.1478345 ],\n",
              "        [-1.4186261 ,  0.02781503, -0.3304107 ,  1.12286202, -0.40527917,\n",
              "          0.90503556,  0.57400109, -0.6983225 , -0.89828712,  0.99590387,\n",
              "         -0.70674006, -0.49876142],\n",
              "        [ 0.70490738,  0.98544689,  2.30859   , -0.89717725,  2.46743496,\n",
              "          0.90503556,  0.53165819, -0.6983225 , -0.48019675,  0.99590387,\n",
              "         -0.70674006,  1.1478345 ],\n",
              "        [ 0.70490738,  0.02781503, -0.55988902, -1.02932936, -0.40527917,\n",
              "          0.90503556,  1.03977302, -0.6983225 , -0.89828712,  0.99590387,\n",
              "         -0.70674006, -0.49876142],\n",
              "        [ 0.70490738, -0.92981682,  0.75961133, -0.65175192, -0.40527917,\n",
              "         -0.97525383, -0.73862889, -0.6983225 ,  0.77407438, -0.61492051,\n",
              "          1.29707587, -2.14535734],\n",
              "        [-1.4186261 , -0.92981682,  2.42332916,  0.04676633, -0.40527917,\n",
              "          0.90503556, -0.27285696,  1.43200311, -0.89828712, -0.61492051,\n",
              "         -0.70674006, -0.49876142],\n",
              "        [ 0.70490738,  0.02781503, -0.21567153,  1.16061977, -0.40527917,\n",
              "         -0.97525383,  0.87040141, -0.6983225 , -0.89828712,  0.99590387,\n",
              "         -0.70674006, -0.49876142],\n",
              "        [-1.4186261 , -0.92981682,  0.01380679,  1.78362253,  2.46743496,\n",
              "         -0.97525383, -0.56925728,  1.43200311,  1.61025513, -0.61492051,\n",
              "         -0.70674006,  1.1478345 ],\n",
              "        [ 0.70490738, -0.92981682, -0.10093237,  0.14116069, -0.40527917,\n",
              "         -0.97525383, -0.10348535, -0.6983225 ,  0.27236593, -0.61492051,\n",
              "          0.29516791,  1.1478345 ],\n",
              "        [ 0.70490738, -0.92981682,  0.47276343, -1.02932936, -0.40527917,\n",
              "          0.90503556, -0.06114245, -0.6983225 , -0.56381482, -0.61492051,\n",
              "         -0.70674006, -2.14535734],\n",
              "        [-1.4186261 , -0.92981682, -0.21567153,  1.06622541, -0.40527917,\n",
              "         -0.97525383,  0.40462948, -0.6983225 , -0.89828712,  0.99590387,\n",
              "          0.29516791, -0.49876142],\n",
              "        [ 0.70490738,  0.98544689,  0.35802427, -0.44408433, -0.40527917,\n",
              "          0.90503556,  0.8280585 , -0.6983225 , -0.89828712,  0.99590387,\n",
              "          3.30089179, -0.49876142],\n",
              "        [ 0.70490738, -0.92981682, -0.38778028, -0.65175192, -0.40527917,\n",
              "          0.90503556,  0.7857156 , -0.6983225 , -0.06210637,  0.99590387,\n",
              "          1.29707587,  1.1478345 ],\n",
              "        [ 0.70490738,  1.94307874, -0.38778028, -0.63287305, -0.40527917,\n",
              "         -0.97525383, -1.03502921,  1.43200311,  0.27236593,  0.99590387,\n",
              "          0.29516791, -0.49876142],\n",
              "        [ 0.70490738,  0.02781503,  1.39067672, -0.02874915, -0.40527917,\n",
              "         -0.97525383, -0.27285696, -0.6983225 , -0.89828712,  0.99590387,\n",
              "         -0.70674006, -0.49876142],\n",
              "        [ 0.70490738,  0.98544689, -0.10093237, -0.61399418, -0.40527917,\n",
              "         -0.97525383,  0.7857156 , -0.6983225 ,  0.77407438, -0.61492051,\n",
              "         -0.70674006, -0.49876142],\n",
              "        [ 0.70490738, -0.92981682, -1.24832398, -1.40690679, -0.40527917,\n",
              "         -0.97525383,  0.36228658, -0.6983225 , -0.89828712,  0.99590387,\n",
              "         -0.70674006,  1.1478345 ],\n",
              "        [ 0.70490738,  0.02781503,  1.62015504, -0.00987028, -0.40527917,\n",
              "          0.90503556, -1.24674372,  1.43200311, -0.89828712, -0.61492051,\n",
              "          2.29898383, -2.14535734],\n",
              "        [ 0.70490738,  0.02781503, -0.67462818,  0.31107054, -0.40527917,\n",
              "          0.90503556,  0.99743011, -0.6983225 , -0.89828712,  0.99590387,\n",
              "         -0.70674006,  1.1478345 ],\n",
              "        [ 0.70490738,  0.02781503, -0.67462818,  1.48156059, -0.40527917,\n",
              "          0.90503556,  0.95508721, -0.6983225 , -0.73105097,  0.99590387,\n",
              "         -0.70674006, -0.49876142],\n",
              "        [-1.4186261 ,  0.02781503, -0.67462818,  0.42434377, -0.40527917,\n",
              "         -0.97525383, -1.20440082,  1.43200311, -0.73105097,  0.99590387,\n",
              "          0.29516791, -0.49876142],\n",
              "        [-1.4186261 ,  0.98544689, -1.13358482,  0.4054649 , -0.40527917,\n",
              "         -0.97525383,  0.95508721,  1.43200311, -0.89828712,  0.99590387,\n",
              "         -0.70674006, -0.49876142],\n",
              "        [ 0.70490738,  0.02781503,  0.18591553, -0.82166177, -0.40527917,\n",
              "          0.90503556, -0.73862889, -0.6983225 , -0.89828712, -0.61492051,\n",
              "         -0.70674006, -2.14535734],\n",
              "        [-1.4186261 ,  0.98544689, -2.16623727, -0.89717725, -0.40527917,\n",
              "          0.90503556,  1.25148753, -0.6983225 , -0.89828712,  0.99590387,\n",
              "         -0.70674006, -0.49876142],\n",
              "        [ 0.70490738,  1.94307874,  2.19385084,  0.78304233, -0.40527917,\n",
              "         -0.97525383,  0.40462948, -0.6983225 , -0.73105097, -0.61492051,\n",
              "         -0.70674006,  1.1478345 ],\n",
              "        [-1.4186261 ,  0.98544689, -0.78936734, -0.08538577, -0.40527917,\n",
              "          0.90503556, -0.01879955, -0.6983225 , -0.6474329 , -0.61492051,\n",
              "          0.29516791, -0.49876142],\n",
              "        [-1.4186261 ,  0.02781503, -0.10093237, -0.198659  , -0.40527917,\n",
              "         -0.97525383,  1.03977302, -0.6983225 , -0.89828712, -0.61492051,\n",
              "          0.29516791, -0.49876142],\n",
              "        [ 0.70490738,  0.98544689,  1.04645923, -0.65175192,  2.46743496,\n",
              "          0.90503556,  0.31994367, -0.6983225 ,  0.43960208,  0.99590387,\n",
              "         -0.70674006, -0.49876142],\n",
              "        [-1.4186261 ,  0.02781503, -0.67462818, -0.04762802, -0.40527917,\n",
              "          0.90503556,  0.53165819, -0.6983225 ,  0.0215117 ,  0.99590387,\n",
              "         -0.70674006, -0.49876142],\n",
              "        [-1.4186261 , -0.92981682, -1.82201979,  0.02788746, -0.40527917,\n",
              "         -0.97525383, -1.16205791, -0.6983225 , -0.06210637, -0.61492051,\n",
              "         -0.70674006, -0.49876142]]))"
            ]
          },
          "metadata": {},
          "execution_count": 16
        }
      ]
    },
    {
      "cell_type": "markdown",
      "metadata": {
        "id": "s5KAJ4Saqft2"
      },
      "source": [
        "# **Logistic Regression**"
      ]
    },
    {
      "cell_type": "code",
      "metadata": {
        "colab": {
          "base_uri": "https://localhost:8080/"
        },
        "id": "X1JjANhFmVxk",
        "outputId": "aec97f0e-5e1b-469a-d317-8ac0704ea420"
      },
      "source": [
        "model = LogisticRegression()\n",
        "model.fit(x_train, y_train)\n",
        "predicted = model.predict(x_test)\n",
        "conf = confusion_matrix(y_test, predicted)\n",
        "\n",
        "print(\"Matrix: \\n\", conf)\n",
        "print(\"Accuracy:\", accuracy_score(y_test, predicted)*100, \"%\")"
      ],
      "execution_count": null,
      "outputs": [
        {
          "output_type": "stream",
          "name": "stdout",
          "text": [
            "Matrix: \n",
            " [[23  4]\n",
            " [ 3 31]]\n",
            "Accuracy: 88.52459016393442 %\n"
          ]
        }
      ]
    },
    {
      "cell_type": "markdown",
      "metadata": {
        "id": "kmSP84j_qr5S"
      },
      "source": [
        "# **Gaussian Naive Bayes**"
      ]
    },
    {
      "cell_type": "code",
      "metadata": {
        "colab": {
          "base_uri": "https://localhost:8080/"
        },
        "id": "mwS2sZtioyr3",
        "outputId": "530c90ad-9e70-4d48-bd9b-93f0762d5992"
      },
      "source": [
        "model = GaussianNB()\n",
        "model.fit(x_train, y_train)\n",
        "\n",
        "predicted = model.predict(x_test)\n",
        "\n",
        "print(\"Accuracy:\", accuracy_score(y_test, predicted)*100, \"%\")"
      ],
      "execution_count": null,
      "outputs": [
        {
          "output_type": "stream",
          "name": "stdout",
          "text": [
            "Accuracy: 88.52459016393442 %\n"
          ]
        }
      ]
    },
    {
      "cell_type": "markdown",
      "metadata": {
        "id": "deEb5HGjrGzx"
      },
      "source": [
        "**Bernoulli Naive Bayes**"
      ]
    },
    {
      "cell_type": "code",
      "metadata": {
        "colab": {
          "base_uri": "https://localhost:8080/"
        },
        "id": "TE15FRp5pLOg",
        "outputId": "cdfbb068-d012-4233-bae9-cc1ebc1d45eb"
      },
      "source": [
        "model = BernoulliNB()\n",
        "model.fit(x_train, y_train)\n",
        "\n",
        "predicted = model.predict(x_test)\n",
        "\n",
        "print(\"Accuracy:\", accuracy_score(y_test, predicted)*100, \"%\")"
      ],
      "execution_count": null,
      "outputs": [
        {
          "output_type": "stream",
          "name": "stdout",
          "text": [
            "Accuracy: 86.88524590163934 %\n"
          ]
        }
      ]
    },
    {
      "cell_type": "markdown",
      "metadata": {
        "id": "HyYxumXorKWG"
      },
      "source": [
        "**Support Vector Machine**"
      ]
    },
    {
      "cell_type": "code",
      "metadata": {
        "colab": {
          "base_uri": "https://localhost:8080/"
        },
        "id": "vyhZPsNYpNtn",
        "outputId": "81636dd5-bfc4-4409-971e-989ebc12e6f9"
      },
      "source": [
        "model = SVC()\n",
        "model.fit(x_train, y_train)\n",
        "\n",
        "predicted = model.predict(x_test)\n",
        "\n",
        "print(\"Accuracy:\", accuracy_score(y_test, predicted)*100, \"%\")"
      ],
      "execution_count": null,
      "outputs": [
        {
          "output_type": "stream",
          "name": "stdout",
          "text": [
            "Accuracy: 91.80327868852459 %\n"
          ]
        }
      ]
    },
    {
      "cell_type": "markdown",
      "metadata": {
        "id": "cj1-EeCYu62R"
      },
      "source": [
        "**Random Forest**"
      ]
    },
    {
      "cell_type": "code",
      "metadata": {
        "colab": {
          "base_uri": "https://localhost:8080/"
        },
        "id": "vDtTHOl0vCUK",
        "outputId": "aa97b9f1-91c6-4432-817d-a1340f8acb95"
      },
      "source": [
        "model = RandomForestRegressor(n_estimators= 100, random_state= 0)\n",
        "model.fit(x_train, y_train)\n",
        "predicted = model.predict(x_test)\n",
        "\n",
        "print(\"Accuracy:\", accuracy_score(y_test, predicted.round())*100, \"%\")"
      ],
      "execution_count": null,
      "outputs": [
        {
          "output_type": "stream",
          "name": "stdout",
          "text": [
            "Accuracy: 85.24590163934425 %\n"
          ]
        }
      ]
    },
    {
      "cell_type": "markdown",
      "metadata": {
        "id": "p3MT6SbjvjNc"
      },
      "source": [
        "**K Nearest Neighbours**"
      ]
    },
    {
      "cell_type": "code",
      "metadata": {
        "colab": {
          "base_uri": "https://localhost:8080/"
        },
        "id": "0aySVA8ZvtCi",
        "outputId": "dee8b52a-ad46-4045-ccb7-26c5bbaa9f86"
      },
      "source": [
        "model = KNeighborsClassifier(n_neighbors= 1)\n",
        "model.fit(x_train, y_train)\n",
        "predicted = model.predict(x_test)\n",
        "\n",
        "print(confusion_matrix(y_test, predicted))\n",
        "print(\"Accuracy:\", accuracy_score(y_test, predicted.round())*100, \"%\")"
      ],
      "execution_count": null,
      "outputs": [
        {
          "output_type": "stream",
          "name": "stdout",
          "text": [
            "[[23  4]\n",
            " [ 6 28]]\n",
            "Accuracy: 83.60655737704919 %\n"
          ]
        }
      ]
    },
    {
      "cell_type": "markdown",
      "metadata": {
        "id": "GRAUTBuVKmw5"
      },
      "source": [
        "**Optimizing the KNN**"
      ]
    },
    {
      "cell_type": "code",
      "metadata": {
        "colab": {
          "base_uri": "https://localhost:8080/",
          "height": 392
        },
        "id": "paspg1zrKtAg",
        "outputId": "75fc6ba1-6a20-4e0a-91c7-a2f914588817"
      },
      "source": [
        "error_rate = []\n",
        "\n",
        "for i in range(1, 40):\n",
        "\n",
        "  model = KNeighborsClassifier(n_neighbors= i)\n",
        "  model.fit(x_train, y_train)\n",
        "  pred_i = model.predict(x_test)\n",
        "  error_rate.append(np.mean(pred_i != y_test))\n",
        "\n",
        "plt.figure(figsize=(10,6))\n",
        "plt.plot(range(1,40), error_rate, color=\"green\", linestyle='dashed', marker='o', markerfacecolor='red', markersize=10)"
      ],
      "execution_count": null,
      "outputs": [
        {
          "output_type": "execute_result",
          "data": {
            "text/plain": [
              "[<matplotlib.lines.Line2D at 0x7fd5fd5b8a90>]"
            ]
          },
          "metadata": {},
          "execution_count": 24
        },
        {
          "output_type": "display_data",
          "data": {
            "image/png": "[encoded data removed]",
            "text/plain": [
              "<Figure size 720x432 with 1 Axes>"
            ]
          },
          "metadata": {
            "needs_background": "light"
          }
        }
      ]
    },
    {
      "cell_type": "code",
      "metadata": {
        "colab": {
          "base_uri": "https://localhost:8080/"
        },
        "id": "lHTWvUigMMhk",
        "outputId": "761b273b-1418-48d3-c183-42198d45c332"
      },
      "source": [
        "model = KNeighborsClassifier(n_neighbors=7)\n",
        "model.fit(x_train, y_train)\n",
        "\n",
        "predicted = model.predict(x_test)\n",
        "\n",
        "from sklearn.metrics import classification_report, confusion_matrix\n",
        "\n",
        "print(confusion_matrix(y_test, predicted))\n",
        "print(\"Accuracy: \", accuracy_score(y_test, predicted.round())*100, \"%\")"
      ],
      "execution_count": null,
      "outputs": [
        {
          "output_type": "stream",
          "name": "stdout",
          "text": [
            "[[25  2]\n",
            " [ 4 30]]\n",
            "Accuracy:  90.1639344262295 %\n"
          ]
        }
      ]
    },
    {
      "cell_type": "markdown",
      "metadata": {
        "id": "M1euH5pTP6Mb"
      },
      "source": [
        "**X Grandient Boosting**"
      ]
    },
    {
      "cell_type": "code",
      "metadata": {
        "colab": {
          "base_uri": "https://localhost:8080/"
        },
        "id": "nj5QY60hP-f3",
        "outputId": "59a584dc-ce32-48b1-efe4-25e26ec8ce38"
      },
      "source": [
        "model = xgb.XGBClassifier(use_label_encoder=False)\n",
        "model.fit(x_train, y_train)\n",
        "\n",
        "predicted = model.predict(x_test)\n",
        "\n",
        "cm = confusion_matrix(y_test, predicted)\n",
        "print(cm)\n",
        "print(\"Accuracy:\", accuracy_score(y_test, predicted)*100, \"%\")"
      ],
      "execution_count": null,
      "outputs": [
        {
          "output_type": "stream",
          "name": "stdout",
          "text": [
            "[[22  5]\n",
            " [ 5 29]]\n",
            "Accuracy: 83.60655737704919 %\n"
          ]
        }
      ]
    }
  ]
}