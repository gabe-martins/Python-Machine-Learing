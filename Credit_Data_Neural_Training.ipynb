{
 "cells": [
  {
   "cell_type": "code",
   "execution_count": 87,
   "id": "0df2546a",
   "metadata": {},
   "outputs": [],
   "source": [
    "import numpy as np\n",
    "import pandas as pd\n",
    "import statistics  as sts\n",
    "\n",
    "from sklearn.metrics import accuracy_score\n",
    "\n",
    "from sklearn.preprocessing import StandardScaler\n",
    "from sklearn.model_selection import train_test_split\n",
    "\n",
    "from sklearn.neural_network import MLPClassifier\n",
    "from sklearn.linear_model import LogisticRegression\n",
    "from sklearn.svm import SVC\n",
    "from sklearn.ensemble import RandomForestClassifier\n",
    "from sklearn.ensemble import RandomForestRegressor\n",
    "\n",
    "from sklearn.metrics import plot_confusion_matrix\n",
    "\n",
    "import matplotlib.pyplot as plt\n",
    "import plotly.express as px"
   ]
  },
  {
   "cell_type": "code",
   "execution_count": 33,
   "id": "261f8574",
   "metadata": {},
   "outputs": [
    {
     "data": {
      "text/plain": [
       "(2000, 5)"
      ]
     },
     "execution_count": 33,
     "metadata": {},
     "output_type": "execute_result"
    }
   ],
   "source": [
    "df = pd.read_csv('./credit_data.csv')\n",
    "df.shape"
   ]
  },
  {
   "cell_type": "code",
   "execution_count": 34,
   "id": "2392b54f",
   "metadata": {},
   "outputs": [
    {
     "data": {
      "text/html": [
       "<div>\n",
       "<style scoped>\n",
       "    .dataframe tbody tr th:only-of-type {\n",
       "        vertical-align: middle;\n",
       "    }\n",
       "\n",
       "    .dataframe tbody tr th {\n",
       "        vertical-align: top;\n",
       "    }\n",
       "\n",
       "    .dataframe thead th {\n",
       "        text-align: right;\n",
       "    }\n",
       "</style>\n",
       "<table border=\"1\" class=\"dataframe\">\n",
       "  <thead>\n",
       "    <tr style=\"text-align: right;\">\n",
       "      <th></th>\n",
       "      <th>clientid</th>\n",
       "      <th>income</th>\n",
       "      <th>age</th>\n",
       "      <th>loan</th>\n",
       "      <th>default</th>\n",
       "    </tr>\n",
       "  </thead>\n",
       "  <tbody>\n",
       "    <tr>\n",
       "      <th>0</th>\n",
       "      <td>1</td>\n",
       "      <td>66155.92510</td>\n",
       "      <td>59.017015</td>\n",
       "      <td>8106.532131</td>\n",
       "      <td>0</td>\n",
       "    </tr>\n",
       "    <tr>\n",
       "      <th>1</th>\n",
       "      <td>2</td>\n",
       "      <td>34415.15397</td>\n",
       "      <td>48.117153</td>\n",
       "      <td>6564.745018</td>\n",
       "      <td>0</td>\n",
       "    </tr>\n",
       "    <tr>\n",
       "      <th>2</th>\n",
       "      <td>3</td>\n",
       "      <td>57317.17006</td>\n",
       "      <td>63.108049</td>\n",
       "      <td>8020.953296</td>\n",
       "      <td>0</td>\n",
       "    </tr>\n",
       "    <tr>\n",
       "      <th>3</th>\n",
       "      <td>4</td>\n",
       "      <td>42709.53420</td>\n",
       "      <td>45.751972</td>\n",
       "      <td>6103.642260</td>\n",
       "      <td>0</td>\n",
       "    </tr>\n",
       "    <tr>\n",
       "      <th>4</th>\n",
       "      <td>5</td>\n",
       "      <td>66952.68885</td>\n",
       "      <td>18.584336</td>\n",
       "      <td>8770.099235</td>\n",
       "      <td>1</td>\n",
       "    </tr>\n",
       "    <tr>\n",
       "      <th>5</th>\n",
       "      <td>6</td>\n",
       "      <td>24904.06414</td>\n",
       "      <td>57.471607</td>\n",
       "      <td>15.498598</td>\n",
       "      <td>0</td>\n",
       "    </tr>\n",
       "    <tr>\n",
       "      <th>6</th>\n",
       "      <td>7</td>\n",
       "      <td>48430.35961</td>\n",
       "      <td>26.809132</td>\n",
       "      <td>5722.581981</td>\n",
       "      <td>0</td>\n",
       "    </tr>\n",
       "    <tr>\n",
       "      <th>7</th>\n",
       "      <td>8</td>\n",
       "      <td>24500.14198</td>\n",
       "      <td>32.897548</td>\n",
       "      <td>2971.003310</td>\n",
       "      <td>1</td>\n",
       "    </tr>\n",
       "    <tr>\n",
       "      <th>8</th>\n",
       "      <td>9</td>\n",
       "      <td>40654.89254</td>\n",
       "      <td>55.496853</td>\n",
       "      <td>4755.825280</td>\n",
       "      <td>0</td>\n",
       "    </tr>\n",
       "    <tr>\n",
       "      <th>9</th>\n",
       "      <td>10</td>\n",
       "      <td>25075.87277</td>\n",
       "      <td>39.776378</td>\n",
       "      <td>1409.230371</td>\n",
       "      <td>0</td>\n",
       "    </tr>\n",
       "  </tbody>\n",
       "</table>\n",
       "</div>"
      ],
      "text/plain": [
       "   clientid       income        age         loan  default\n",
       "0         1  66155.92510  59.017015  8106.532131        0\n",
       "1         2  34415.15397  48.117153  6564.745018        0\n",
       "2         3  57317.17006  63.108049  8020.953296        0\n",
       "3         4  42709.53420  45.751972  6103.642260        0\n",
       "4         5  66952.68885  18.584336  8770.099235        1\n",
       "5         6  24904.06414  57.471607    15.498598        0\n",
       "6         7  48430.35961  26.809132  5722.581981        0\n",
       "7         8  24500.14198  32.897548  2971.003310        1\n",
       "8         9  40654.89254  55.496853  4755.825280        0\n",
       "9        10  25075.87277  39.776378  1409.230371        0"
      ]
     },
     "execution_count": 34,
     "metadata": {},
     "output_type": "execute_result"
    }
   ],
   "source": [
    "df.head(10)"
   ]
  },
  {
   "cell_type": "markdown",
   "id": "13e6c931",
   "metadata": {},
   "source": [
    "# **Data preparation**"
   ]
  },
  {
   "cell_type": "code",
   "execution_count": 35,
   "id": "b1b16723",
   "metadata": {},
   "outputs": [
    {
     "data": {
      "text/html": [
       "<div>\n",
       "<style scoped>\n",
       "    .dataframe tbody tr th:only-of-type {\n",
       "        vertical-align: middle;\n",
       "    }\n",
       "\n",
       "    .dataframe tbody tr th {\n",
       "        vertical-align: top;\n",
       "    }\n",
       "\n",
       "    .dataframe thead th {\n",
       "        text-align: right;\n",
       "    }\n",
       "</style>\n",
       "<table border=\"1\" class=\"dataframe\">\n",
       "  <thead>\n",
       "    <tr style=\"text-align: right;\">\n",
       "      <th></th>\n",
       "      <th>clientid</th>\n",
       "      <th>income</th>\n",
       "      <th>age</th>\n",
       "      <th>loan</th>\n",
       "      <th>default</th>\n",
       "    </tr>\n",
       "  </thead>\n",
       "  <tbody>\n",
       "  </tbody>\n",
       "</table>\n",
       "</div>"
      ],
      "text/plain": [
       "Empty DataFrame\n",
       "Columns: [clientid, income, age, loan, default]\n",
       "Index: []"
      ]
     },
     "execution_count": 35,
     "metadata": {},
     "output_type": "execute_result"
    }
   ],
   "source": [
    "df[df.duplicated()]"
   ]
  },
  {
   "cell_type": "code",
   "execution_count": 50,
   "id": "c95a98ec",
   "metadata": {},
   "outputs": [
    {
     "data": {
      "text/plain": [
       "clientid    0\n",
       "income      0\n",
       "age         0\n",
       "loan        0\n",
       "default     0\n",
       "dtype: int64"
      ]
     },
     "execution_count": 50,
     "metadata": {},
     "output_type": "execute_result"
    }
   ],
   "source": [
    "df.isnull().sum()"
   ]
  },
  {
   "cell_type": "code",
   "execution_count": 47,
   "id": "7f530fa7",
   "metadata": {},
   "outputs": [
    {
     "data": {
      "text/plain": [
       "18.44842426"
      ]
     },
     "execution_count": 47,
     "metadata": {},
     "output_type": "execute_result"
    }
   ],
   "source": [
    "mediana = sts.median(df['age'])\n",
    "mediana"
   ]
  },
  {
   "cell_type": "code",
   "execution_count": 48,
   "id": "a3168dc3",
   "metadata": {},
   "outputs": [],
   "source": [
    "df['age'].fillna(mediana, inplace=True)"
   ]
  },
  {
   "cell_type": "code",
   "execution_count": 49,
   "id": "140142a6",
   "metadata": {},
   "outputs": [
    {
     "data": {
      "image/png": "[encoded data removed]",
      "text/plain": [
       "<Figure size 720x432 with 1 Axes>"
      ]
     },
     "metadata": {
      "needs_background": "light"
     },
     "output_type": "display_data"
    }
   ],
   "source": [
    "plt.figure(figsize=(10,6))\n",
    "plt.boxplot(df)\n",
    "plt.show()"
   ]
  },
  {
   "cell_type": "markdown",
   "id": "4168e71e",
   "metadata": {},
   "source": [
    "# **Data processing**"
   ]
  },
  {
   "cell_type": "code",
   "execution_count": 52,
   "id": "130a44a3",
   "metadata": {},
   "outputs": [
    {
     "data": {
      "text/plain": [
       "(array([[6.61559251e+04, 5.90170151e+01, 8.10653213e+03],\n",
       "        [3.44151540e+04, 4.81171531e+01, 6.56474502e+03],\n",
       "        [5.73171701e+04, 6.31080495e+01, 8.02095330e+03],\n",
       "        ...,\n",
       "        [4.43114493e+04, 2.80171669e+01, 5.52278669e+03],\n",
       "        [4.37560566e+04, 6.39717958e+01, 1.62272260e+03],\n",
       "        [6.94365795e+04, 5.61526170e+01, 7.37883360e+03]]),\n",
       " array([0, 0, 0, ..., 1, 0, 0], dtype=int64))"
      ]
     },
     "execution_count": 52,
     "metadata": {},
     "output_type": "execute_result"
    }
   ],
   "source": [
    "x = df.iloc[:, 1:-1].values\n",
    "y = df.iloc[:, -1].values\n",
    "x,y"
   ]
  },
  {
   "cell_type": "code",
   "execution_count": 53,
   "id": "5985e2c4",
   "metadata": {},
   "outputs": [],
   "source": [
    "# spliting data to test and train\n",
    "x_train, x_test, y_train, y_test = train_test_split(x,y, test_size = 0.2, random_state = 4)"
   ]
  },
  {
   "cell_type": "code",
   "execution_count": 54,
   "id": "1cf2bcf1",
   "metadata": {},
   "outputs": [],
   "source": [
    "scaler = StandardScaler()\n",
    "x_train = scaler.fit_transform(x_train)\n",
    "x_test = scaler.transform(x_test)"
   ]
  },
  {
   "cell_type": "code",
   "execution_count": 55,
   "id": "4c87ace1",
   "metadata": {},
   "outputs": [
    {
     "name": "stdout",
     "output_type": "stream",
     "text": [
      "(1600, 3) (1600,)\n",
      "(400, 3) (400,)\n"
     ]
    }
   ],
   "source": [
    "print(x_train.shape, y_train.shape)\n",
    "print(x_test.shape, y_test.shape)"
   ]
  },
  {
   "cell_type": "markdown",
   "id": "2a3446b0",
   "metadata": {},
   "source": [
    "## **Logistic Regression**"
   ]
  },
  {
   "cell_type": "code",
   "execution_count": 56,
   "id": "4dbfdaaf",
   "metadata": {},
   "outputs": [
    {
     "name": "stdout",
     "output_type": "stream",
     "text": [
      "Accuracy: 94.5 %\n"
     ]
    }
   ],
   "source": [
    "model = LogisticRegression()\n",
    "model.fit(x_train, y_train)\n",
    "predicted = model.predict(x_test)\n",
    "\n",
    "print(\"Accuracy:\", accuracy_score(y_test, predicted)*100, \"%\")"
   ]
  },
  {
   "cell_type": "markdown",
   "id": "d6650f5e",
   "metadata": {},
   "source": [
    "## **---**"
   ]
  },
  {
   "cell_type": "code",
   "execution_count": 62,
   "id": "529aa0cb",
   "metadata": {},
   "outputs": [
    {
     "name": "stdout",
     "output_type": "stream",
     "text": [
      "99.5 %\n"
     ]
    }
   ],
   "source": [
    "clf = MLPClassifier(solver='sgd', hidden_layer_sizes=(9,), learning_rate_init=0.9, activation='logistic', max_iter=1500, random_state=1)\n",
    "clf.fit(x_train, y_train)\n",
    "\n",
    "y_pred = clf.predict_proba(x_test)\n",
    "y_aux = np.argmax(y_pred, 1)\n",
    "\n",
    "print(f'{accuracy_score(y_test, y_aux)*100} %')"
   ]
  },
  {
   "cell_type": "code",
   "execution_count": 77,
   "id": "044c0770",
   "metadata": {},
   "outputs": [
    {
     "name": "stderr",
     "output_type": "stream",
     "text": [
      "C:\\Users\\gabri\\anaconda3\\lib\\site-packages\\sklearn\\utils\\deprecation.py:87: FutureWarning:\n",
      "\n",
      "Function plot_confusion_matrix is deprecated; Function `plot_confusion_matrix` is deprecated in 1.0 and will be removed in 1.2. Use one of the class methods: ConfusionMatrixDisplay.from_predictions or ConfusionMatrixDisplay.from_estimator.\n",
      "\n"
     ]
    },
    {
     "data": {
      "image/png": "[encoded data removed]",
      "text/plain": [
       "<Figure size 432x288 with 2 Axes>"
      ]
     },
     "metadata": {
      "needs_background": "light"
     },
     "output_type": "display_data"
    }
   ],
   "source": [
    "plot_confusion_matrix(clf, x_test, y_test)\n",
    "plt.show()"
   ]
  },
  {
   "cell_type": "code",
   "execution_count": 65,
   "id": "5b5930dd",
   "metadata": {},
   "outputs": [
    {
     "name": "stdout",
     "output_type": "stream",
     "text": [
      "[0 0 0 0 0 0 0 0 0 0] [0 0 0 0 0 0 0 0 0 0]\n"
     ]
    }
   ],
   "source": [
    "print(y_test[:10], y_aux[:10])"
   ]
  },
  {
   "cell_type": "code",
   "execution_count": 79,
   "id": "9f7438b0",
   "metadata": {},
   "outputs": [
    {
     "name": "stdout",
     "output_type": "stream",
     "text": [
      "(400,)\n"
     ]
    }
   ],
   "source": [
    "print(y_aux.shape)"
   ]
  },
  {
   "cell_type": "markdown",
   "id": "9d0cfdd1",
   "metadata": {},
   "source": [
    "## **Support Vector Machine**"
   ]
  },
  {
   "cell_type": "code",
   "execution_count": 82,
   "id": "c8982435",
   "metadata": {},
   "outputs": [
    {
     "name": "stdout",
     "output_type": "stream",
     "text": [
      "Accuracy: 98.0 %\n"
     ]
    }
   ],
   "source": [
    "SVC_model = SVC()\n",
    "SVC_model.fit(x_train, y_train)\n",
    "\n",
    "SVC_predicted = SVC_model.predict(x_test)\n",
    "\n",
    "print(\"Accuracy:\", accuracy_score(y_test, SVC_predicted)*100, \"%\")"
   ]
  },
  {
   "cell_type": "code",
   "execution_count": 83,
   "id": "f933e67c",
   "metadata": {},
   "outputs": [
    {
     "name": "stderr",
     "output_type": "stream",
     "text": [
      "C:\\Users\\gabri\\anaconda3\\lib\\site-packages\\sklearn\\utils\\deprecation.py:87: FutureWarning:\n",
      "\n",
      "Function plot_confusion_matrix is deprecated; Function `plot_confusion_matrix` is deprecated in 1.0 and will be removed in 1.2. Use one of the class methods: ConfusionMatrixDisplay.from_predictions or ConfusionMatrixDisplay.from_estimator.\n",
      "\n"
     ]
    },
    {
     "data": {
      "image/png": "[encoded data removed]",
      "text/plain": [
       "<Figure size 432x288 with 2 Axes>"
      ]
     },
     "metadata": {
      "needs_background": "light"
     },
     "output_type": "display_data"
    }
   ],
   "source": [
    "plot_confusion_matrix(SVC_model, x_test, y_test)\n",
    "plt.show()"
   ]
  },
  {
   "cell_type": "markdown",
   "id": "3edfe56a",
   "metadata": {},
   "source": [
    "## **Random Forest Regressor**"
   ]
  },
  {
   "cell_type": "code",
   "execution_count": 93,
   "id": "346cdad1",
   "metadata": {},
   "outputs": [
    {
     "name": "stdout",
     "output_type": "stream",
     "text": [
      "Accuracy: 98.0 %\n"
     ]
    }
   ],
   "source": [
    "RFR_model = RandomForestRegressor(n_estimators= 100, random_state= 0)\n",
    "RFR_model.fit(x_train, y_train)\n",
    "RFR_predicted = model.predict(x_test)\n",
    "\n",
    "print(\"Accuracy:\", accuracy_score(y_test, RFR_predicted)*100, \"%\")"
   ]
  },
  {
   "cell_type": "code",
   "execution_count": 98,
   "id": "3ae73673",
   "metadata": {},
   "outputs": [
    {
     "name": "stdout",
     "output_type": "stream",
     "text": [
      "[[336   5]\n",
      " [  3  56]]\n"
     ]
    }
   ],
   "source": [
    "print(confusion_matrix(y_test, RFR_predicted))"
   ]
  },
  {
   "cell_type": "markdown",
   "id": "8a8b7369",
   "metadata": {},
   "source": [
    "## **Random Forest Classifier**"
   ]
  },
  {
   "cell_type": "code",
   "execution_count": 90,
   "id": "573ea050",
   "metadata": {},
   "outputs": [
    {
     "name": "stdout",
     "output_type": "stream",
     "text": [
      "Accuracy: 98.0 %\n"
     ]
    }
   ],
   "source": [
    "RFC_model = RandomForestClassifier(n_estimators = 100)\n",
    "RFC_model.fit(x_train, y_train)\n",
    "\n",
    "RFC_predicted = RFC_model.predict(x_test)\n",
    "print(\"Accuracy:\", accuracy_score(y_test, RF_predicted)*100, \"%\")"
   ]
  },
  {
   "cell_type": "code",
   "execution_count": 99,
   "id": "73b6c461",
   "metadata": {},
   "outputs": [
    {
     "name": "stdout",
     "output_type": "stream",
     "text": [
      "[[337   4]\n",
      " [  7  52]]\n"
     ]
    }
   ],
   "source": [
    "print(confusion_matrix(y_test, RFC_predicted))"
   ]
  }
 ],
 "metadata": {
  "kernelspec": {
   "display_name": "Python 3 (ipykernel)",
   "language": "python",
   "name": "python3"
  },
  "language_info": {
   "codemirror_mode": {
    "name": "ipython",
    "version": 3
   },
   "file_extension": ".py",
   "mimetype": "text/x-python",
   "name": "python",
   "nbconvert_exporter": "python",
   "pygments_lexer": "ipython3",
   "version": "3.9.7"
  }
 },
 "nbformat": 4,
 "nbformat_minor": 5
}
